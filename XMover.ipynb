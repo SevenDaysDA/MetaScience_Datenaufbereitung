{
 "cells": [
  {
   "cell_type": "code",
   "execution_count": 11,
   "metadata": {
    "collapsed": true
   },
   "outputs": [
    {
     "name": "stdout",
     "output_type": "stream",
     "text": [
      "{\n",
      "  \"model_name\": \"roberta-base\",\n",
      "  \"do_lower_case\": false,\n",
      "  \"language_model\": \"gpt2\",\n",
      "  \"alignment\": \"CLP\",\n",
      "  \"ngram\": 2,\n",
      "  \"layer\": 8,\n",
      "  \"batch_size\": 32,\n",
      "  \"dropout_rate\": 0.3,\n",
      "  \"f\": \"C:\\\\Users\\\\stari\\\\AppData\\\\Roaming\\\\jupyter\\\\runtime\\\\kernel-d4ed6ec8-781d-4757-ac79-fe50a53729fc.json\"\n",
      "}\n"
     ]
    }
   ],
   "source": [
    "import pandas as pd\n",
    "from mosestokenizer import MosesDetokenizer\n",
    "from scipy.stats import pearsonr\n",
    "def pearson(preds, labels):\n",
    "    pearson_corr = pearsonr(preds, labels)[0]\n",
    "    return '{0:.{1}f}'.format(pearson_corr, 3)\n",
    "\n",
    "reference_list = dict({\n",
    "        \"cs-en\": 'testset_cs-en.tsv',\n",
    "        \"de-en\": 'testset_de-en.tsv',\n",
    "        \"fi-en\": 'testset_fi-en.tsv',\n",
    "        \"lv-en\": 'testset_lv-en.tsv',\n",
    "        \"ru-en\": 'testset_ru-en.tsv',\n",
    "        \"tr-en\": 'testset_tr-en.tsv',\n",
    "        \"zh-en\": 'testset_zh-en.tsv',\n",
    "        })\n",
    "\n",
    "import argparse\n",
    "parser = argparse.ArgumentParser()\n",
    "\n",
    "#parser.add_argument('--model_name', type=str, default='bert-base-multilingual-cased')\n",
    "#parser.add_argument('--model_name', type=str, default='albert-base-v2')\n",
    "parser.add_argument('--model_name', type=str, default='roberta-base')\n",
    "\n",
    "parser.add_argument('--do_lower_case', type=bool, default=False)\n",
    "parser.add_argument('--language_model', type=str, default='gpt2')\n",
    "parser.add_argument('--alignment', type=str, default='CLP', help='CLP or UMD or None')\n",
    "parser.add_argument('--ngram', type=int, default=2)\n",
    "parser.add_argument('--layer', type=int, default=8)\n",
    "parser.add_argument('--batch_size', type=int, default=32)\n",
    "parser.add_argument('--dropout_rate', type=float, default=0.3, help='Remove the percentage of noisy elements in Word-Mover-Distance')\n",
    "\n",
    "import json\n",
    "parser.add_argument('-f')# Dummy parser element\n",
    "args = parser.parse_args()\n",
    "params = vars(args)\n",
    "print(json.dumps(params, indent = 2))\n",
    "\n",
    "from scorer import XMOVERScorer\n",
    "import numpy as np\n",
    "import torch\n",
    "import truecase\n",
    "\n",
    "scorer = XMOVERScorer(args.model_name, args.language_model, args.do_lower_case)\n",
    "\n",
    "def metric_combination(a, b, alpha):\n",
    "    return alpha[0]*np.array(a) + alpha[1]*np.array(b)\n",
    "\n",
    "\n",
    "# Evaluating\n",
    "from time import perf_counter\n",
    "\n",
    "LPS = 'lp'\n",
    "SCORE = 'F1 Score'\n",
    "TIME = 'Time'\n",
    "BERTTIME = '% Time BERT'\n",
    "\n",
    "variants = [\"bert-base-uncased\", \"roberta-base\", \"albert-base-v2\", \"distilroberta-base\", \"microsoft/deberta-base\"]\n",
    "results = {\n",
    "    LPS: [],\n",
    "    SCORE: [],\n",
    "    TIME: [],\n",
    "    BERTTIME: []*5\n",
    "}"
   ]
  },
  {
   "cell_type": "code",
   "execution_count": 12,
   "outputs": [
    {
     "name": "stderr",
     "output_type": "stream",
     "text": [
      "  0%|          | 0/7 [00:00<?, ?it/s]stdbuf was not found; communication with perl may hang due to stdio buffering.\n",
      "stdbuf was not found; communication with perl may hang due to stdio buffering.\n",
      "  0%|          | 0/7 [00:01<?, ?it/s]\n"
     ]
    },
    {
     "name": "stdout",
     "output_type": "stream",
     "text": [
      "Lp:  cs-en\n",
      "1\n"
     ]
    },
    {
     "ename": "IndexError",
     "evalue": "Dimension out of range (expected to be in range of [-2, 1], but got -3)",
     "output_type": "error",
     "traceback": [
      "\u001B[1;31m---------------------------------------------------------------------------\u001B[0m",
      "\u001B[1;31mIndexError\u001B[0m                                Traceback (most recent call last)",
      "\u001B[1;32m<ipython-input-12-82bbea48a105>\u001B[0m in \u001B[0;36m<module>\u001B[1;34m\u001B[0m\n\u001B[0;32m     34\u001B[0m     \u001B[1;31m#tracemalloc.start()\u001B[0m\u001B[1;33m\u001B[0m\u001B[1;33m\u001B[0m\u001B[1;33m\u001B[0m\u001B[0m\n\u001B[0;32m     35\u001B[0m     \u001B[0ms\u001B[0m \u001B[1;33m=\u001B[0m \u001B[0mperf_counter\u001B[0m\u001B[1;33m(\u001B[0m\u001B[1;33m)\u001B[0m\u001B[1;33m\u001B[0m\u001B[1;33m\u001B[0m\u001B[0m\n\u001B[1;32m---> 36\u001B[1;33m     xmoverscores = scorer.compute_xmoverscore(args.alignment, projection, bias, source, translations, ngram=args.ngram, \\\n\u001B[0m\u001B[0;32m     37\u001B[0m                                               layer=args.layer, dropout_rate=args.dropout_rate, bs=args.batch_size)\n\u001B[0;32m     38\u001B[0m     \u001B[0mresults\u001B[0m\u001B[1;33m[\u001B[0m\u001B[0mTIME\u001B[0m\u001B[1;33m]\u001B[0m\u001B[1;33m.\u001B[0m\u001B[0mappend\u001B[0m\u001B[1;33m(\u001B[0m\u001B[0mround\u001B[0m\u001B[1;33m(\u001B[0m\u001B[0mperf_counter\u001B[0m\u001B[1;33m(\u001B[0m\u001B[1;33m)\u001B[0m \u001B[1;33m-\u001B[0m \u001B[0ms\u001B[0m\u001B[1;33m,\u001B[0m \u001B[1;36m3\u001B[0m\u001B[1;33m)\u001B[0m\u001B[1;33m)\u001B[0m\u001B[1;33m\u001B[0m\u001B[1;33m\u001B[0m\u001B[0m\n",
      "\u001B[1;32mE:\\Uni\\Aufnahmen Vorlesung\\SoSe21\\Meta\\Gruppen_Repo\\NLP_Metric\\XMoverScore\\ACL20-Reference-Free-MT-Evaluation\\scorer.py\u001B[0m in \u001B[0;36mcompute_xmoverscore\u001B[1;34m(self, mapping, projection, bias, source, translations, ngram, bs, layer, dropout_rate)\u001B[0m\n\u001B[0;32m     48\u001B[0m \u001B[1;33m\u001B[0m\u001B[0m\n\u001B[0;32m     49\u001B[0m     \u001B[1;32mdef\u001B[0m \u001B[0mcompute_xmoverscore\u001B[0m\u001B[1;33m(\u001B[0m\u001B[0mself\u001B[0m\u001B[1;33m,\u001B[0m \u001B[0mmapping\u001B[0m\u001B[1;33m,\u001B[0m \u001B[0mprojection\u001B[0m\u001B[1;33m,\u001B[0m \u001B[0mbias\u001B[0m\u001B[1;33m,\u001B[0m \u001B[0msource\u001B[0m\u001B[1;33m,\u001B[0m \u001B[0mtranslations\u001B[0m\u001B[1;33m,\u001B[0m \u001B[0mngram\u001B[0m\u001B[1;33m=\u001B[0m\u001B[1;36m2\u001B[0m\u001B[1;33m,\u001B[0m \u001B[0mbs\u001B[0m\u001B[1;33m=\u001B[0m\u001B[1;36m32\u001B[0m\u001B[1;33m,\u001B[0m \u001B[0mlayer\u001B[0m\u001B[1;33m=\u001B[0m\u001B[1;36m8\u001B[0m\u001B[1;33m,\u001B[0m \u001B[0mdropout_rate\u001B[0m\u001B[1;33m=\u001B[0m\u001B[1;36m0.3\u001B[0m\u001B[1;33m)\u001B[0m\u001B[1;33m:\u001B[0m\u001B[1;33m\u001B[0m\u001B[1;33m\u001B[0m\u001B[0m\n\u001B[1;32m---> 50\u001B[1;33m         return word_mover_score(mapping, projection, bias, self.model, self.tokenizer, source, translations, \\\n\u001B[0m\u001B[0;32m     51\u001B[0m                                 n_gram=ngram, layer=layer, dropout_rate=dropout_rate, batch_size=bs)\n\u001B[0;32m     52\u001B[0m \u001B[1;33m\u001B[0m\u001B[0m\n",
      "\u001B[1;32mE:\\Uni\\Aufnahmen Vorlesung\\SoSe21\\Meta\\Gruppen_Repo\\NLP_Metric\\XMoverScore\\ACL20-Reference-Free-MT-Evaluation\\score_utils_2.py\u001B[0m in \u001B[0;36mword_mover_score\u001B[1;34m(mapping, projection, bias, model, tokenizer, src, hyps, n_gram, layer, dropout_rate, batch_size, device)\u001B[0m\n\u001B[0;32m    123\u001B[0m         \u001B[0mbatch_src\u001B[0m \u001B[1;33m=\u001B[0m \u001B[0msrc\u001B[0m\u001B[1;33m[\u001B[0m\u001B[0mbatch_start\u001B[0m\u001B[1;33m:\u001B[0m\u001B[0mbatch_start\u001B[0m\u001B[1;33m+\u001B[0m\u001B[0mbatch_size\u001B[0m\u001B[1;33m]\u001B[0m\u001B[1;33m\u001B[0m\u001B[1;33m\u001B[0m\u001B[0m\n\u001B[0;32m    124\u001B[0m         \u001B[0mbatch_hyps\u001B[0m \u001B[1;33m=\u001B[0m \u001B[0mhyps\u001B[0m\u001B[1;33m[\u001B[0m\u001B[0mbatch_start\u001B[0m\u001B[1;33m:\u001B[0m\u001B[0mbatch_start\u001B[0m\u001B[1;33m+\u001B[0m\u001B[0mbatch_size\u001B[0m\u001B[1;33m]\u001B[0m\u001B[1;33m\u001B[0m\u001B[1;33m\u001B[0m\u001B[0m\n\u001B[1;32m--> 125\u001B[1;33m \u001B[1;33m\u001B[0m\u001B[0m\n\u001B[0m\u001B[0;32m    126\u001B[0m         src_embedding, src_lens, src_masks, src_idf, src_tokens = get_bert_embedding(batch_src, model, tokenizer, idf_dict_src,\n\u001B[0;32m    127\u001B[0m                                        device=device)\n",
      "\u001B[1;32mE:\\Uni\\Aufnahmen Vorlesung\\SoSe21\\Meta\\Gruppen_Repo\\NLP_Metric\\XMoverScore\\ACL20-Reference-Free-MT-Evaluation\\score_utils_2.py\u001B[0m in \u001B[0;36mget_bert_embedding\u001B[1;34m(all_sens, model, tokenizer, idf_dict, batch_size, device)\u001B[0m\n\u001B[0;32m     65\u001B[0m             \u001B[0mbatch_embedding\u001B[0m \u001B[1;33m=\u001B[0m \u001B[0mtorch\u001B[0m\u001B[1;33m.\u001B[0m\u001B[0mstack\u001B[0m\u001B[1;33m(\u001B[0m\u001B[0mlist\u001B[0m\u001B[1;33m(\u001B[0m\u001B[0mbatch_embedding\u001B[0m\u001B[1;33m)\u001B[0m\u001B[1;33m)\u001B[0m\u001B[1;33m\u001B[0m\u001B[1;33m\u001B[0m\u001B[0m\n\u001B[0;32m     66\u001B[0m             \u001B[0membeddings\u001B[0m\u001B[1;33m.\u001B[0m\u001B[0mappend\u001B[0m\u001B[1;33m(\u001B[0m\u001B[0mbatch_embedding\u001B[0m\u001B[1;33m)\u001B[0m\u001B[1;33m\u001B[0m\u001B[1;33m\u001B[0m\u001B[0m\n\u001B[1;32m---> 67\u001B[1;33m             \u001B[1;32mdel\u001B[0m \u001B[0mbatch_embedding\u001B[0m\u001B[1;33m\u001B[0m\u001B[1;33m\u001B[0m\u001B[0m\n\u001B[0m\u001B[0;32m     68\u001B[0m \u001B[1;33m\u001B[0m\u001B[0m\n\u001B[0;32m     69\u001B[0m     \u001B[0mtotal_embedding\u001B[0m \u001B[1;33m=\u001B[0m \u001B[0mtorch\u001B[0m\u001B[1;33m.\u001B[0m\u001B[0mcat\u001B[0m\u001B[1;33m(\u001B[0m\u001B[0membeddings\u001B[0m\u001B[1;33m,\u001B[0m \u001B[0mdim\u001B[0m\u001B[1;33m=\u001B[0m\u001B[1;33m-\u001B[0m\u001B[1;36m3\u001B[0m\u001B[1;33m)\u001B[0m\u001B[1;33m\u001B[0m\u001B[1;33m\u001B[0m\u001B[0m\n",
      "\u001B[1;31mIndexError\u001B[0m: Dimension out of range (expected to be in range of [-2, 1], but got -3)"
     ]
    }
   ],
   "source": [
    "#import tracemalloc\n",
    "import os\n",
    "from tqdm import tqdm\n",
    "for pair in tqdm(reference_list.items()):\n",
    "    lp, path = pair\n",
    "\n",
    "\n",
    "    src, tgt = lp.split('-')\n",
    "\n",
    "    device = \"cuda\" if torch.cuda.is_available() else \"cpu\"\n",
    "    temp = np.load('mapping/layer-8/europarl-v7.%s-%s.%s.BAM' % (src, tgt, args.layer), allow_pickle=True)\n",
    "    projection = torch.tensor(temp, dtype=torch.float).to(device)\n",
    "    temp = np.load('mapping/layer-8/europarl-v7.%s-%s.%s.GBDD' % (src, tgt, args.layer), allow_pickle=True)\n",
    "    bias = torch.tensor(temp, dtype=torch.float).to(device)\n",
    "\n",
    "    data = pd.read_csv(os.path.join('WMT17', 'testset', path), sep='\\t')\n",
    "    references = data['reference'].tolist()\n",
    "    translations = data['translation'].tolist()\n",
    "    source = data['source'].tolist()\n",
    "    human_score = data['HUMAN_score'].tolist()\n",
    "    sentBLEU = data['sentBLEU'].tolist()\n",
    "    print(\"Lp: \",lp)\n",
    "    #print(\"Source: ,\",source)\n",
    "    #print(\"Translation: ,\",translations)\n",
    "    with MosesDetokenizer(src.strip()) as detokenize:\n",
    "        source = [detokenize(s.split(' ')) for s in source]\n",
    "    with MosesDetokenizer(tgt) as detokenize:\n",
    "        references = [detokenize(s.split(' ')) for s in references]\n",
    "        translations = [detokenize(s.split(' ')) for s in translations]\n",
    "\n",
    "    translations = [truecase.get_true_case(s) for s in translations]\n",
    "\n",
    "\n",
    "    #tracemalloc.start()\n",
    "    s = perf_counter()\n",
    "    xmoverscores = scorer.compute_xmoverscore(args.alignment, projection, bias, source, translations, ngram=args.ngram, \\\n",
    "                                              layer=args.layer, dropout_rate=args.dropout_rate, bs=args.batch_size)\n",
    "    results[TIME].append(round(perf_counter() - s, 3))\n",
    "    #current, peak = tracemalloc.get_traced_memory()\n",
    "    #print(f\"Current memory usage is {current / 10 ** 6}MB; Peak was {peak / 10 ** 6}MB\")\n",
    "    #tracemalloc.stop()\n",
    "\n",
    "    #results[USAGE].append(str(round(peak / 10 ** 6, 3))+\" MB\")\n",
    "    final_score = pearson(human_score, xmoverscores)\n",
    "    results[SCORE].append(final_score)\n",
    "    results[LPS].append(lp)\n",
    "\n",
    "    print(\"Time XMoverDistance: \\t\",results[TIME] )\n",
    "    print(\"XMOVER Scores: \\t\\t \", results[SCORE])\n",
    "    print('\\r\\nlp:{} xmovescore:{} '.format(lp, final_score ))\n",
    "\n",
    "\n"
   ],
   "metadata": {
    "collapsed": false,
    "pycharm": {
     "name": "#%%\n"
    }
   }
  },
  {
   "cell_type": "code",
   "execution_count": null,
   "outputs": [],
   "source": [
    "'''\n",
    "results[BERTTIME] = []\n",
    "for i in range(len(variants)):\n",
    "  results[BERTTIME].append(f'{results[TIME][i] / results[TIME][0] * 100:.1f}')\n",
    "'''\n",
    "\n",
    "df = pd.DataFrame(results, columns=[LPS, SCORE, TIME])\n",
    "df.to_csv(\"XMOVERScore.csv\", index=False)"
   ],
   "metadata": {
    "collapsed": false,
    "pycharm": {
     "name": "#%%\n"
    }
   }
  }
 ],
 "metadata": {
  "kernelspec": {
   "display_name": "Python 3",
   "language": "python",
   "name": "python3"
  },
  "language_info": {
   "codemirror_mode": {
    "name": "ipython",
    "version": 2
   },
   "file_extension": ".py",
   "mimetype": "text/x-python",
   "name": "python",
   "nbconvert_exporter": "python",
   "pygments_lexer": "ipython2",
   "version": "2.7.6"
  }
 },
 "nbformat": 4,
 "nbformat_minor": 0
}