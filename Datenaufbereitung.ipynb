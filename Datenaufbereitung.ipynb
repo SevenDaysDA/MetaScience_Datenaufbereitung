{
 "cells": [
  {
   "cell_type": "code",
   "execution_count": 6,
   "metadata": {
    "collapsed": true
   },
   "outputs": [
    {
     "name": "stdout",
     "output_type": "stream",
     "text": [
      "      LP  Score       Time    Memory  LM_Score   LM_Time  LM_Usage\n",
      "0  cs-en  0.235  15.350510  3.558393     0.441  9.155029  0.964488\n",
      "1  de-en  0.397  13.264046  2.286715     0.485  9.062764  0.877836\n",
      "2  fi-en  0.337  12.962186  2.195590     0.621  9.007933  0.491337\n",
      "3  lv-en  0.222  14.124704  3.180200     0.591  7.041997  0.303266\n",
      "4  ru-en  0.342  15.306884  2.705046     0.491  9.041218  0.265173\n",
      "5  tr-en  0.341  14.761524  3.258908     0.473  9.018890  0.227115\n",
      "6  zh-en  0.367  15.699397  2.547295     0.454  9.111060  0.818632\n",
      "      LP  Score       Time    Memory  LM_Score   LM_Time  LM_Usage\n",
      "0  cs-en  0.518  13.412430  3.191529     0.549  9.474414  0.964335\n",
      "1  de-en  0.590  13.114895  2.639378     0.586  9.220241  0.877739\n",
      "2  fi-en  0.697  11.004122  2.091645     0.716  9.224232  0.491266\n",
      "3  lv-en  0.610  11.281559  2.573953     0.688  7.197632  0.303043\n",
      "4  ru-en  0.640  13.458505  2.561002     0.650  9.226392  0.264838\n",
      "5  tr-en  0.638  11.925952  2.574385     0.627  9.536940  0.226942\n",
      "6  zh-en  0.540  12.979061  2.381238     0.558  9.240135  0.818459\n",
      "Tiny-VErsions\n",
      "      LP  Score       Time    Memory  LM_Score   LM_Time  LM_Usage\n",
      "0  cs-en  0.160   9.110027  2.015753     0.299  9.278019  0.964820\n",
      "1  de-en  0.177  10.292973  1.988626     0.309  9.235782  0.877763\n",
      "2  fi-en  0.337   9.480935  1.717757     0.547  9.113930  0.491262\n",
      "3  lv-en  0.209   7.399000  2.197985     0.433  7.177503  0.304561\n",
      "4  ru-en  0.212  32.051196  6.504297     0.367  9.381735  0.265204\n",
      "5  tr-en  0.248  11.042654  2.818602     0.378  9.219118  0.226882\n",
      "6  zh-en  0.327  12.963893  2.148161     0.435  9.392307  0.818617\n",
      "       LP  Score       Time    Memory  LM_Score   LM_Time  LM_Usage\n",
      "7   cs-en -0.096   8.903752  1.933335     0.329  9.517910  0.781228\n",
      "8   de-en -0.039  10.184725  1.964971     0.347  9.465277  0.711125\n",
      "9   fi-en -0.182   9.480277  1.709637     0.555  9.269210  0.332804\n",
      "10  lv-en -0.225   7.356033  2.194939     0.470  7.329186  0.248417\n",
      "11  ru-en -0.142  29.543931  6.484609     0.400  9.334722  0.265204\n",
      "12  tr-en -0.105  10.702284  2.818474     0.325  9.285057  0.226986\n",
      "13  zh-en -0.069  12.671357  2.144341     0.342  9.394006  0.818617\n",
      "       LP  Score       Time    Memory  LM_Score   LM_Time  LM_Usage\n",
      "14  cs-en -0.040   8.958889  1.930679     0.365  9.461269  0.781228\n",
      "15  de-en -0.012  10.347310  1.964971     0.369  9.386558  0.711125\n",
      "16  fi-en -0.001   9.673124  1.709637     0.583  9.341688  0.332748\n",
      "17  lv-en -0.121   7.361810  2.194811     0.530  7.260513  0.248369\n",
      "18  ru-en  0.018  30.698592  6.484609     0.387  9.419873  0.265148\n",
      "19  tr-en -0.072  10.816796  2.818602     0.366  9.234599  0.226882\n",
      "20  zh-en -0.051  12.798865  2.144341     0.349  9.377056  0.818617\n"
     ]
    }
   ],
   "source": [
    "# Daten Einlesen\n",
    "import pandas as pd\n",
    "filename1 = 'XMOVERScore_BERT_X.csv'\n",
    "filename2 = 'XMOVERScore_tiny_bert.csv'\n",
    "\n",
    "\n",
    "df1 = pd.read_csv(filename1)\n",
    "df2 = pd.read_csv(filename2)\n",
    "tiny_BERT_Modelle = pd.read_csv('XMOVERScore_TinyUebersicht.csv')\n",
    "\n",
    "bert_df = df1.iloc[0:7]     # Base Line\n",
    "xlmrob_df = pd.read_csv('XMOVERScore_XLM-Roberta.csv')\n",
    "distil_df = df1.iloc[14:]\n",
    "\n",
    "tiny1 = tiny_BERT_Modelle.iloc[0:7]\n",
    "tiny2 = tiny_BERT_Modelle.iloc[7:14]\n",
    "tiny3 = tiny_BERT_Modelle.iloc[14:]\n",
    "\n",
    "print(bert_df)\n",
    "print(xlmrob_df)\n",
    "\n",
    "tiny_models_df = [tiny1, tiny2, tiny3]\n",
    "print(\"Tiny-VErsions\")\n",
    "for tin in tiny_models_df:\n",
    "    print(tin)"
   ]
  },
  {
   "cell_type": "code",
   "execution_count": 2,
   "outputs": [],
   "source": [
    "#Andere Reihen anschauen und Mittel bilden\n",
    "all2 = pd.read_csv('XMOVERScore_Druchlauf2.csv')\n",
    "all3 = pd.read_csv('XMOVERScore_Druchlauf3.csv')\n",
    "all4 = pd.read_csv('XMOVERScore_Druchlauf4.csv')\n",
    "all5 = pd.read_csv('XMOVERScore_Druchlauf5.csv')\n",
    "\n",
    "data= [all2, all3, all4, all5]\n",
    "all_average = all2.copy()\n",
    "\n",
    "for col in range(1,all_average.shape[1]):\n",
    "    for row in range(all_average.shape[0]):\n",
    "        temp=0\n",
    "        for val in data:\n",
    "            temp += abs(val.iloc[row, col])\n",
    "        all_average.iloc[row, col] = temp/len(data)\n",
    "\n",
    "bert_df_avg = all_average.iloc[0:7]     # Base Line\n",
    "xlmrob_df_avg = all_average.iloc[7:14]\n",
    "distil_df_avg = all_average.iloc[14:21]\n",
    "tiny_df_avg = all_average.iloc[21:]\n",
    "##   Average Values   ###\n"
   ],
   "metadata": {
    "collapsed": false,
    "pycharm": {
     "name": "#%% Irrelevant\n"
    }
   }
  },
  {
   "cell_type": "code",
   "execution_count": 9,
   "outputs": [
    {
     "name": "stdout",
     "output_type": "stream",
     "text": [
      "      LP     Score      Time    Memory  LM_Score   LM_Time  LM_Usage\n",
      "0  cs-en  2.204255  0.873745  0.896902  1.244898  1.034886  0.999841\n",
      "1  de-en  1.486146  0.988755  1.154223  1.208247  1.017376  0.999890\n",
      "2  fi-en  2.068249  0.848940  0.952657  1.152979  1.024012  0.999855\n",
      "3  lv-en  2.747748  0.798711  0.809368  1.164129  1.022101  0.999265\n",
      "4  ru-en  1.871345  0.879245  0.946750  1.323829  1.020481  0.998737\n",
      "5  tr-en  1.870968  0.807908  0.789953  1.325581  1.057441  0.999238\n",
      "6  zh-en  1.471390  0.826724  0.934810  1.229075  1.014167  0.999789\n",
      "       LP     Score      Time    Memory  LM_Score   LM_Time  LM_Usage\n",
      "14  cs-en  0.251064  0.822771  0.976291  0.884354  1.056576  0.811134\n",
      "15  de-en  0.732997  0.815115  0.989868  0.936082  1.058603  0.810327\n",
      "16  fi-en  0.388724  0.850617  0.995246  0.943639  1.054916  0.677545\n",
      "17  lv-en  0.220721  0.888258  0.997803  0.912014  1.054748  0.820224\n",
      "18  ru-en  0.608187  0.833643  0.998709  0.902240  1.049199  1.000302\n",
      "19  tr-en  0.240469  0.804388  0.999788  0.875264  1.057329  1.000352\n",
      "20  zh-en  0.817439  0.867854  0.998937  0.927313  1.056524  1.000166\n",
      "      LP     Score      Time    Memory  LM_Score   LM_Time  LM_Usage\n",
      "0  cs-en  0.680851  0.593467  0.566478  0.678005  1.013434  1.000344\n",
      "1  de-en  0.445844  0.776006  0.869643  0.637113  1.019091  0.999917\n",
      "2  fi-en  1.000000  0.731430  0.782367  0.880837  1.011767  0.999847\n",
      "3  lv-en  0.941441  0.523834  0.691147  0.732657  1.019243  1.004270\n",
      "4  ru-en  0.619883  2.093907  2.404505  0.747454  1.037663  1.000117\n",
      "5  tr-en  0.727273  0.748070  0.864892  0.799154  1.022201  0.998974\n",
      "6  zh-en  0.891008  0.825757  0.843311  0.958150  1.030869  0.999982\n"
     ]
    }
   ],
   "source": [
    "# Aufbereitung\n",
    "xlm= xlmrob_df.copy()\n",
    "dist = distil_df.copy()\n",
    "tiny = tiny1.copy()\n",
    "\n",
    "for col in range(1,xlm.shape[1]):\n",
    "    for row in range(xlm.shape[0]):\n",
    "        xlm.iloc[row, col] =  abs(xlm.iloc[row, col].copy() / bert_df.iloc[row, col].copy())\n",
    "        dist.iloc[row, col] = abs(dist.iloc[row, col].copy() / bert_df.iloc[row, col].copy())\n",
    "        tiny.iloc[row, col] =  abs(tiny.iloc[row, col].copy() / bert_df.iloc[row, col].copy())\n",
    "models=[xlm,dist,tiny]\n",
    "print(xlm)\n",
    "print(dist)\n",
    "print(tiny)"
   ],
   "metadata": {
    "collapsed": false,
    "pycharm": {
     "name": "#%%\n"
    }
   }
  },
  {
   "cell_type": "code",
   "execution_count": 18,
   "outputs": [
    {
     "data": {
      "application/vnd.plotly.v1+json": {
       "config": {
        "plotlyServerURL": "https://plot.ly"
       },
       "data": [
        {
         "fill": "toself",
         "name": "mBERT",
         "r": [
          0.235,
          0.397,
          0.337,
          0.222,
          0.342,
          0.341,
          0.367
         ],
         "theta": [
          "cs",
          "de",
          "fi",
          "lv",
          "ru",
          "tr",
          "zh"
         ],
         "type": "scatterpolar"
        },
        {
         "fill": "toself",
         "name": "XLM-RoBERTa",
         "r": [
          0.518,
          0.59,
          0.697,
          0.61,
          0.64,
          0.638,
          0.54
         ],
         "theta": [
          "cs",
          "de",
          "fi",
          "lv",
          "ru",
          "tr",
          "zh"
         ],
         "type": "scatterpolar"
        },
        {
         "fill": "toself",
         "name": "DistilBERT",
         "r": [
          0.059,
          0.291,
          0.131,
          -0.049,
          0.208,
          0.082,
          0.3
         ],
         "theta": [
          "cs",
          "de",
          "fi",
          "lv",
          "ru",
          "tr",
          "zh"
         ],
         "type": "scatterpolar"
        },
        {
         "fill": "toself",
         "name": "TinyBERT",
         "r": [
          0.16,
          0.177,
          0.337,
          0.209,
          0.212,
          0.248,
          0.327
         ],
         "theta": [
          "cs",
          "de",
          "fi",
          "lv",
          "ru",
          "tr",
          "zh"
         ],
         "type": "scatterpolar"
        }
       ],
       "layout": {
        "polar": {
         "radialaxis": {
          "range": [
           0,
           1
          ],
          "visible": true
         }
        },
        "showlegend": true,
        "template": {
         "data": {
          "bar": [
           {
            "error_x": {
             "color": "#2a3f5f"
            },
            "error_y": {
             "color": "#2a3f5f"
            },
            "marker": {
             "line": {
              "color": "#E5ECF6",
              "width": 0.5
             },
             "pattern": {
              "fillmode": "overlay",
              "size": 10,
              "solidity": 0.2
             }
            },
            "type": "bar"
           }
          ],
          "barpolar": [
           {
            "marker": {
             "line": {
              "color": "#E5ECF6",
              "width": 0.5
             },
             "pattern": {
              "fillmode": "overlay",
              "size": 10,
              "solidity": 0.2
             }
            },
            "type": "barpolar"
           }
          ],
          "carpet": [
           {
            "aaxis": {
             "endlinecolor": "#2a3f5f",
             "gridcolor": "white",
             "linecolor": "white",
             "minorgridcolor": "white",
             "startlinecolor": "#2a3f5f"
            },
            "baxis": {
             "endlinecolor": "#2a3f5f",
             "gridcolor": "white",
             "linecolor": "white",
             "minorgridcolor": "white",
             "startlinecolor": "#2a3f5f"
            },
            "type": "carpet"
           }
          ],
          "choropleth": [
           {
            "colorbar": {
             "outlinewidth": 0,
             "ticks": ""
            },
            "type": "choropleth"
           }
          ],
          "contour": [
           {
            "colorbar": {
             "outlinewidth": 0,
             "ticks": ""
            },
            "colorscale": [
             [
              0.0,
              "#0d0887"
             ],
             [
              0.1111111111111111,
              "#46039f"
             ],
             [
              0.2222222222222222,
              "#7201a8"
             ],
             [
              0.3333333333333333,
              "#9c179e"
             ],
             [
              0.4444444444444444,
              "#bd3786"
             ],
             [
              0.5555555555555556,
              "#d8576b"
             ],
             [
              0.6666666666666666,
              "#ed7953"
             ],
             [
              0.7777777777777778,
              "#fb9f3a"
             ],
             [
              0.8888888888888888,
              "#fdca26"
             ],
             [
              1.0,
              "#f0f921"
             ]
            ],
            "type": "contour"
           }
          ],
          "contourcarpet": [
           {
            "colorbar": {
             "outlinewidth": 0,
             "ticks": ""
            },
            "type": "contourcarpet"
           }
          ],
          "heatmap": [
           {
            "colorbar": {
             "outlinewidth": 0,
             "ticks": ""
            },
            "colorscale": [
             [
              0.0,
              "#0d0887"
             ],
             [
              0.1111111111111111,
              "#46039f"
             ],
             [
              0.2222222222222222,
              "#7201a8"
             ],
             [
              0.3333333333333333,
              "#9c179e"
             ],
             [
              0.4444444444444444,
              "#bd3786"
             ],
             [
              0.5555555555555556,
              "#d8576b"
             ],
             [
              0.6666666666666666,
              "#ed7953"
             ],
             [
              0.7777777777777778,
              "#fb9f3a"
             ],
             [
              0.8888888888888888,
              "#fdca26"
             ],
             [
              1.0,
              "#f0f921"
             ]
            ],
            "type": "heatmap"
           }
          ],
          "heatmapgl": [
           {
            "colorbar": {
             "outlinewidth": 0,
             "ticks": ""
            },
            "colorscale": [
             [
              0.0,
              "#0d0887"
             ],
             [
              0.1111111111111111,
              "#46039f"
             ],
             [
              0.2222222222222222,
              "#7201a8"
             ],
             [
              0.3333333333333333,
              "#9c179e"
             ],
             [
              0.4444444444444444,
              "#bd3786"
             ],
             [
              0.5555555555555556,
              "#d8576b"
             ],
             [
              0.6666666666666666,
              "#ed7953"
             ],
             [
              0.7777777777777778,
              "#fb9f3a"
             ],
             [
              0.8888888888888888,
              "#fdca26"
             ],
             [
              1.0,
              "#f0f921"
             ]
            ],
            "type": "heatmapgl"
           }
          ],
          "histogram": [
           {
            "marker": {
             "pattern": {
              "fillmode": "overlay",
              "size": 10,
              "solidity": 0.2
             }
            },
            "type": "histogram"
           }
          ],
          "histogram2d": [
           {
            "colorbar": {
             "outlinewidth": 0,
             "ticks": ""
            },
            "colorscale": [
             [
              0.0,
              "#0d0887"
             ],
             [
              0.1111111111111111,
              "#46039f"
             ],
             [
              0.2222222222222222,
              "#7201a8"
             ],
             [
              0.3333333333333333,
              "#9c179e"
             ],
             [
              0.4444444444444444,
              "#bd3786"
             ],
             [
              0.5555555555555556,
              "#d8576b"
             ],
             [
              0.6666666666666666,
              "#ed7953"
             ],
             [
              0.7777777777777778,
              "#fb9f3a"
             ],
             [
              0.8888888888888888,
              "#fdca26"
             ],
             [
              1.0,
              "#f0f921"
             ]
            ],
            "type": "histogram2d"
           }
          ],
          "histogram2dcontour": [
           {
            "colorbar": {
             "outlinewidth": 0,
             "ticks": ""
            },
            "colorscale": [
             [
              0.0,
              "#0d0887"
             ],
             [
              0.1111111111111111,
              "#46039f"
             ],
             [
              0.2222222222222222,
              "#7201a8"
             ],
             [
              0.3333333333333333,
              "#9c179e"
             ],
             [
              0.4444444444444444,
              "#bd3786"
             ],
             [
              0.5555555555555556,
              "#d8576b"
             ],
             [
              0.6666666666666666,
              "#ed7953"
             ],
             [
              0.7777777777777778,
              "#fb9f3a"
             ],
             [
              0.8888888888888888,
              "#fdca26"
             ],
             [
              1.0,
              "#f0f921"
             ]
            ],
            "type": "histogram2dcontour"
           }
          ],
          "mesh3d": [
           {
            "colorbar": {
             "outlinewidth": 0,
             "ticks": ""
            },
            "type": "mesh3d"
           }
          ],
          "parcoords": [
           {
            "line": {
             "colorbar": {
              "outlinewidth": 0,
              "ticks": ""
             }
            },
            "type": "parcoords"
           }
          ],
          "pie": [
           {
            "automargin": true,
            "type": "pie"
           }
          ],
          "scatter": [
           {
            "marker": {
             "colorbar": {
              "outlinewidth": 0,
              "ticks": ""
             }
            },
            "type": "scatter"
           }
          ],
          "scatter3d": [
           {
            "line": {
             "colorbar": {
              "outlinewidth": 0,
              "ticks": ""
             }
            },
            "marker": {
             "colorbar": {
              "outlinewidth": 0,
              "ticks": ""
             }
            },
            "type": "scatter3d"
           }
          ],
          "scattercarpet": [
           {
            "marker": {
             "colorbar": {
              "outlinewidth": 0,
              "ticks": ""
             }
            },
            "type": "scattercarpet"
           }
          ],
          "scattergeo": [
           {
            "marker": {
             "colorbar": {
              "outlinewidth": 0,
              "ticks": ""
             }
            },
            "type": "scattergeo"
           }
          ],
          "scattergl": [
           {
            "marker": {
             "colorbar": {
              "outlinewidth": 0,
              "ticks": ""
             }
            },
            "type": "scattergl"
           }
          ],
          "scattermapbox": [
           {
            "marker": {
             "colorbar": {
              "outlinewidth": 0,
              "ticks": ""
             }
            },
            "type": "scattermapbox"
           }
          ],
          "scatterpolar": [
           {
            "marker": {
             "colorbar": {
              "outlinewidth": 0,
              "ticks": ""
             }
            },
            "type": "scatterpolar"
           }
          ],
          "scatterpolargl": [
           {
            "marker": {
             "colorbar": {
              "outlinewidth": 0,
              "ticks": ""
             }
            },
            "type": "scatterpolargl"
           }
          ],
          "scatterternary": [
           {
            "marker": {
             "colorbar": {
              "outlinewidth": 0,
              "ticks": ""
             }
            },
            "type": "scatterternary"
           }
          ],
          "surface": [
           {
            "colorbar": {
             "outlinewidth": 0,
             "ticks": ""
            },
            "colorscale": [
             [
              0.0,
              "#0d0887"
             ],
             [
              0.1111111111111111,
              "#46039f"
             ],
             [
              0.2222222222222222,
              "#7201a8"
             ],
             [
              0.3333333333333333,
              "#9c179e"
             ],
             [
              0.4444444444444444,
              "#bd3786"
             ],
             [
              0.5555555555555556,
              "#d8576b"
             ],
             [
              0.6666666666666666,
              "#ed7953"
             ],
             [
              0.7777777777777778,
              "#fb9f3a"
             ],
             [
              0.8888888888888888,
              "#fdca26"
             ],
             [
              1.0,
              "#f0f921"
             ]
            ],
            "type": "surface"
           }
          ],
          "table": [
           {
            "cells": {
             "fill": {
              "color": "#EBF0F8"
             },
             "line": {
              "color": "white"
             }
            },
            "header": {
             "fill": {
              "color": "#C8D4E3"
             },
             "line": {
              "color": "white"
             }
            },
            "type": "table"
           }
          ]
         },
         "layout": {
          "annotationdefaults": {
           "arrowcolor": "#2a3f5f",
           "arrowhead": 0,
           "arrowwidth": 1
          },
          "autotypenumbers": "strict",
          "coloraxis": {
           "colorbar": {
            "outlinewidth": 0,
            "ticks": ""
           }
          },
          "colorscale": {
           "diverging": [
            [
             0,
             "#8e0152"
            ],
            [
             0.1,
             "#c51b7d"
            ],
            [
             0.2,
             "#de77ae"
            ],
            [
             0.3,
             "#f1b6da"
            ],
            [
             0.4,
             "#fde0ef"
            ],
            [
             0.5,
             "#f7f7f7"
            ],
            [
             0.6,
             "#e6f5d0"
            ],
            [
             0.7,
             "#b8e186"
            ],
            [
             0.8,
             "#7fbc41"
            ],
            [
             0.9,
             "#4d9221"
            ],
            [
             1,
             "#276419"
            ]
           ],
           "sequential": [
            [
             0.0,
             "#0d0887"
            ],
            [
             0.1111111111111111,
             "#46039f"
            ],
            [
             0.2222222222222222,
             "#7201a8"
            ],
            [
             0.3333333333333333,
             "#9c179e"
            ],
            [
             0.4444444444444444,
             "#bd3786"
            ],
            [
             0.5555555555555556,
             "#d8576b"
            ],
            [
             0.6666666666666666,
             "#ed7953"
            ],
            [
             0.7777777777777778,
             "#fb9f3a"
            ],
            [
             0.8888888888888888,
             "#fdca26"
            ],
            [
             1.0,
             "#f0f921"
            ]
           ],
           "sequentialminus": [
            [
             0.0,
             "#0d0887"
            ],
            [
             0.1111111111111111,
             "#46039f"
            ],
            [
             0.2222222222222222,
             "#7201a8"
            ],
            [
             0.3333333333333333,
             "#9c179e"
            ],
            [
             0.4444444444444444,
             "#bd3786"
            ],
            [
             0.5555555555555556,
             "#d8576b"
            ],
            [
             0.6666666666666666,
             "#ed7953"
            ],
            [
             0.7777777777777778,
             "#fb9f3a"
            ],
            [
             0.8888888888888888,
             "#fdca26"
            ],
            [
             1.0,
             "#f0f921"
            ]
           ]
          },
          "colorway": [
           "#636efa",
           "#EF553B",
           "#00cc96",
           "#ab63fa",
           "#FFA15A",
           "#19d3f3",
           "#FF6692",
           "#B6E880",
           "#FF97FF",
           "#FECB52"
          ],
          "font": {
           "color": "#2a3f5f"
          },
          "geo": {
           "bgcolor": "white",
           "lakecolor": "white",
           "landcolor": "#E5ECF6",
           "showlakes": true,
           "showland": true,
           "subunitcolor": "white"
          },
          "hoverlabel": {
           "align": "left"
          },
          "hovermode": "closest",
          "mapbox": {
           "style": "light"
          },
          "paper_bgcolor": "white",
          "plot_bgcolor": "#E5ECF6",
          "polar": {
           "angularaxis": {
            "gridcolor": "white",
            "linecolor": "white",
            "ticks": ""
           },
           "bgcolor": "#E5ECF6",
           "radialaxis": {
            "gridcolor": "white",
            "linecolor": "white",
            "ticks": ""
           }
          },
          "scene": {
           "xaxis": {
            "backgroundcolor": "#E5ECF6",
            "gridcolor": "white",
            "gridwidth": 2,
            "linecolor": "white",
            "showbackground": true,
            "ticks": "",
            "zerolinecolor": "white"
           },
           "yaxis": {
            "backgroundcolor": "#E5ECF6",
            "gridcolor": "white",
            "gridwidth": 2,
            "linecolor": "white",
            "showbackground": true,
            "ticks": "",
            "zerolinecolor": "white"
           },
           "zaxis": {
            "backgroundcolor": "#E5ECF6",
            "gridcolor": "white",
            "gridwidth": 2,
            "linecolor": "white",
            "showbackground": true,
            "ticks": "",
            "zerolinecolor": "white"
           }
          },
          "shapedefaults": {
           "line": {
            "color": "#2a3f5f"
           }
          },
          "ternary": {
           "aaxis": {
            "gridcolor": "white",
            "linecolor": "white",
            "ticks": ""
           },
           "baxis": {
            "gridcolor": "white",
            "linecolor": "white",
            "ticks": ""
           },
           "bgcolor": "#E5ECF6",
           "caxis": {
            "gridcolor": "white",
            "linecolor": "white",
            "ticks": ""
           }
          },
          "title": {
           "x": 0.05
          },
          "xaxis": {
           "automargin": true,
           "gridcolor": "white",
           "linecolor": "white",
           "ticks": "",
           "title": {
            "standoff": 15
           },
           "zerolinecolor": "white",
           "zerolinewidth": 2
          },
          "yaxis": {
           "automargin": true,
           "gridcolor": "white",
           "linecolor": "white",
           "ticks": "",
           "title": {
            "standoff": 15
           },
           "zerolinecolor": "white",
           "zerolinewidth": 2
          }
         }
        },
        "title": {
         "text": "Model Score"
        }
       }
      },
      "text/html": "<div>                            <div id=\"e51035d4-359c-4b21-b52c-4d5773b2a4fe\" class=\"plotly-graph-div\" style=\"height:525px; width:100%;\"></div>            <script type=\"text/javascript\">                require([\"plotly\"], function(Plotly) {                    window.PLOTLYENV=window.PLOTLYENV || {};                                    if (document.getElementById(\"e51035d4-359c-4b21-b52c-4d5773b2a4fe\")) {                    Plotly.newPlot(                        \"e51035d4-359c-4b21-b52c-4d5773b2a4fe\",                        [{\"fill\":\"toself\",\"name\":\"mBERT\",\"r\":[0.235,0.397,0.337,0.222,0.342,0.341,0.367],\"theta\":[\"cs\",\"de\",\"fi\",\"lv\",\"ru\",\"tr\",\"zh\"],\"type\":\"scatterpolar\"},{\"fill\":\"toself\",\"name\":\"XLM-RoBERTa\",\"r\":[0.518,0.59,0.697,0.61,0.64,0.638,0.54],\"theta\":[\"cs\",\"de\",\"fi\",\"lv\",\"ru\",\"tr\",\"zh\"],\"type\":\"scatterpolar\"},{\"fill\":\"toself\",\"name\":\"DistilBERT\",\"r\":[0.059,0.291,0.131,-0.049,0.208,0.082,0.3],\"theta\":[\"cs\",\"de\",\"fi\",\"lv\",\"ru\",\"tr\",\"zh\"],\"type\":\"scatterpolar\"},{\"fill\":\"toself\",\"name\":\"TinyBERT\",\"r\":[0.16,0.177,0.337,0.209,0.212,0.248,0.327],\"theta\":[\"cs\",\"de\",\"fi\",\"lv\",\"ru\",\"tr\",\"zh\"],\"type\":\"scatterpolar\"}],                        {\"polar\":{\"radialaxis\":{\"range\":[0,1],\"visible\":true}},\"showlegend\":true,\"template\":{\"data\":{\"bar\":[{\"error_x\":{\"color\":\"#2a3f5f\"},\"error_y\":{\"color\":\"#2a3f5f\"},\"marker\":{\"line\":{\"color\":\"#E5ECF6\",\"width\":0.5},\"pattern\":{\"fillmode\":\"overlay\",\"size\":10,\"solidity\":0.2}},\"type\":\"bar\"}],\"barpolar\":[{\"marker\":{\"line\":{\"color\":\"#E5ECF6\",\"width\":0.5},\"pattern\":{\"fillmode\":\"overlay\",\"size\":10,\"solidity\":0.2}},\"type\":\"barpolar\"}],\"carpet\":[{\"aaxis\":{\"endlinecolor\":\"#2a3f5f\",\"gridcolor\":\"white\",\"linecolor\":\"white\",\"minorgridcolor\":\"white\",\"startlinecolor\":\"#2a3f5f\"},\"baxis\":{\"endlinecolor\":\"#2a3f5f\",\"gridcolor\":\"white\",\"linecolor\":\"white\",\"minorgridcolor\":\"white\",\"startlinecolor\":\"#2a3f5f\"},\"type\":\"carpet\"}],\"choropleth\":[{\"colorbar\":{\"outlinewidth\":0,\"ticks\":\"\"},\"type\":\"choropleth\"}],\"contour\":[{\"colorbar\":{\"outlinewidth\":0,\"ticks\":\"\"},\"colorscale\":[[0.0,\"#0d0887\"],[0.1111111111111111,\"#46039f\"],[0.2222222222222222,\"#7201a8\"],[0.3333333333333333,\"#9c179e\"],[0.4444444444444444,\"#bd3786\"],[0.5555555555555556,\"#d8576b\"],[0.6666666666666666,\"#ed7953\"],[0.7777777777777778,\"#fb9f3a\"],[0.8888888888888888,\"#fdca26\"],[1.0,\"#f0f921\"]],\"type\":\"contour\"}],\"contourcarpet\":[{\"colorbar\":{\"outlinewidth\":0,\"ticks\":\"\"},\"type\":\"contourcarpet\"}],\"heatmap\":[{\"colorbar\":{\"outlinewidth\":0,\"ticks\":\"\"},\"colorscale\":[[0.0,\"#0d0887\"],[0.1111111111111111,\"#46039f\"],[0.2222222222222222,\"#7201a8\"],[0.3333333333333333,\"#9c179e\"],[0.4444444444444444,\"#bd3786\"],[0.5555555555555556,\"#d8576b\"],[0.6666666666666666,\"#ed7953\"],[0.7777777777777778,\"#fb9f3a\"],[0.8888888888888888,\"#fdca26\"],[1.0,\"#f0f921\"]],\"type\":\"heatmap\"}],\"heatmapgl\":[{\"colorbar\":{\"outlinewidth\":0,\"ticks\":\"\"},\"colorscale\":[[0.0,\"#0d0887\"],[0.1111111111111111,\"#46039f\"],[0.2222222222222222,\"#7201a8\"],[0.3333333333333333,\"#9c179e\"],[0.4444444444444444,\"#bd3786\"],[0.5555555555555556,\"#d8576b\"],[0.6666666666666666,\"#ed7953\"],[0.7777777777777778,\"#fb9f3a\"],[0.8888888888888888,\"#fdca26\"],[1.0,\"#f0f921\"]],\"type\":\"heatmapgl\"}],\"histogram\":[{\"marker\":{\"pattern\":{\"fillmode\":\"overlay\",\"size\":10,\"solidity\":0.2}},\"type\":\"histogram\"}],\"histogram2d\":[{\"colorbar\":{\"outlinewidth\":0,\"ticks\":\"\"},\"colorscale\":[[0.0,\"#0d0887\"],[0.1111111111111111,\"#46039f\"],[0.2222222222222222,\"#7201a8\"],[0.3333333333333333,\"#9c179e\"],[0.4444444444444444,\"#bd3786\"],[0.5555555555555556,\"#d8576b\"],[0.6666666666666666,\"#ed7953\"],[0.7777777777777778,\"#fb9f3a\"],[0.8888888888888888,\"#fdca26\"],[1.0,\"#f0f921\"]],\"type\":\"histogram2d\"}],\"histogram2dcontour\":[{\"colorbar\":{\"outlinewidth\":0,\"ticks\":\"\"},\"colorscale\":[[0.0,\"#0d0887\"],[0.1111111111111111,\"#46039f\"],[0.2222222222222222,\"#7201a8\"],[0.3333333333333333,\"#9c179e\"],[0.4444444444444444,\"#bd3786\"],[0.5555555555555556,\"#d8576b\"],[0.6666666666666666,\"#ed7953\"],[0.7777777777777778,\"#fb9f3a\"],[0.8888888888888888,\"#fdca26\"],[1.0,\"#f0f921\"]],\"type\":\"histogram2dcontour\"}],\"mesh3d\":[{\"colorbar\":{\"outlinewidth\":0,\"ticks\":\"\"},\"type\":\"mesh3d\"}],\"parcoords\":[{\"line\":{\"colorbar\":{\"outlinewidth\":0,\"ticks\":\"\"}},\"type\":\"parcoords\"}],\"pie\":[{\"automargin\":true,\"type\":\"pie\"}],\"scatter\":[{\"marker\":{\"colorbar\":{\"outlinewidth\":0,\"ticks\":\"\"}},\"type\":\"scatter\"}],\"scatter3d\":[{\"line\":{\"colorbar\":{\"outlinewidth\":0,\"ticks\":\"\"}},\"marker\":{\"colorbar\":{\"outlinewidth\":0,\"ticks\":\"\"}},\"type\":\"scatter3d\"}],\"scattercarpet\":[{\"marker\":{\"colorbar\":{\"outlinewidth\":0,\"ticks\":\"\"}},\"type\":\"scattercarpet\"}],\"scattergeo\":[{\"marker\":{\"colorbar\":{\"outlinewidth\":0,\"ticks\":\"\"}},\"type\":\"scattergeo\"}],\"scattergl\":[{\"marker\":{\"colorbar\":{\"outlinewidth\":0,\"ticks\":\"\"}},\"type\":\"scattergl\"}],\"scattermapbox\":[{\"marker\":{\"colorbar\":{\"outlinewidth\":0,\"ticks\":\"\"}},\"type\":\"scattermapbox\"}],\"scatterpolar\":[{\"marker\":{\"colorbar\":{\"outlinewidth\":0,\"ticks\":\"\"}},\"type\":\"scatterpolar\"}],\"scatterpolargl\":[{\"marker\":{\"colorbar\":{\"outlinewidth\":0,\"ticks\":\"\"}},\"type\":\"scatterpolargl\"}],\"scatterternary\":[{\"marker\":{\"colorbar\":{\"outlinewidth\":0,\"ticks\":\"\"}},\"type\":\"scatterternary\"}],\"surface\":[{\"colorbar\":{\"outlinewidth\":0,\"ticks\":\"\"},\"colorscale\":[[0.0,\"#0d0887\"],[0.1111111111111111,\"#46039f\"],[0.2222222222222222,\"#7201a8\"],[0.3333333333333333,\"#9c179e\"],[0.4444444444444444,\"#bd3786\"],[0.5555555555555556,\"#d8576b\"],[0.6666666666666666,\"#ed7953\"],[0.7777777777777778,\"#fb9f3a\"],[0.8888888888888888,\"#fdca26\"],[1.0,\"#f0f921\"]],\"type\":\"surface\"}],\"table\":[{\"cells\":{\"fill\":{\"color\":\"#EBF0F8\"},\"line\":{\"color\":\"white\"}},\"header\":{\"fill\":{\"color\":\"#C8D4E3\"},\"line\":{\"color\":\"white\"}},\"type\":\"table\"}]},\"layout\":{\"annotationdefaults\":{\"arrowcolor\":\"#2a3f5f\",\"arrowhead\":0,\"arrowwidth\":1},\"autotypenumbers\":\"strict\",\"coloraxis\":{\"colorbar\":{\"outlinewidth\":0,\"ticks\":\"\"}},\"colorscale\":{\"diverging\":[[0,\"#8e0152\"],[0.1,\"#c51b7d\"],[0.2,\"#de77ae\"],[0.3,\"#f1b6da\"],[0.4,\"#fde0ef\"],[0.5,\"#f7f7f7\"],[0.6,\"#e6f5d0\"],[0.7,\"#b8e186\"],[0.8,\"#7fbc41\"],[0.9,\"#4d9221\"],[1,\"#276419\"]],\"sequential\":[[0.0,\"#0d0887\"],[0.1111111111111111,\"#46039f\"],[0.2222222222222222,\"#7201a8\"],[0.3333333333333333,\"#9c179e\"],[0.4444444444444444,\"#bd3786\"],[0.5555555555555556,\"#d8576b\"],[0.6666666666666666,\"#ed7953\"],[0.7777777777777778,\"#fb9f3a\"],[0.8888888888888888,\"#fdca26\"],[1.0,\"#f0f921\"]],\"sequentialminus\":[[0.0,\"#0d0887\"],[0.1111111111111111,\"#46039f\"],[0.2222222222222222,\"#7201a8\"],[0.3333333333333333,\"#9c179e\"],[0.4444444444444444,\"#bd3786\"],[0.5555555555555556,\"#d8576b\"],[0.6666666666666666,\"#ed7953\"],[0.7777777777777778,\"#fb9f3a\"],[0.8888888888888888,\"#fdca26\"],[1.0,\"#f0f921\"]]},\"colorway\":[\"#636efa\",\"#EF553B\",\"#00cc96\",\"#ab63fa\",\"#FFA15A\",\"#19d3f3\",\"#FF6692\",\"#B6E880\",\"#FF97FF\",\"#FECB52\"],\"font\":{\"color\":\"#2a3f5f\"},\"geo\":{\"bgcolor\":\"white\",\"lakecolor\":\"white\",\"landcolor\":\"#E5ECF6\",\"showlakes\":true,\"showland\":true,\"subunitcolor\":\"white\"},\"hoverlabel\":{\"align\":\"left\"},\"hovermode\":\"closest\",\"mapbox\":{\"style\":\"light\"},\"paper_bgcolor\":\"white\",\"plot_bgcolor\":\"#E5ECF6\",\"polar\":{\"angularaxis\":{\"gridcolor\":\"white\",\"linecolor\":\"white\",\"ticks\":\"\"},\"bgcolor\":\"#E5ECF6\",\"radialaxis\":{\"gridcolor\":\"white\",\"linecolor\":\"white\",\"ticks\":\"\"}},\"scene\":{\"xaxis\":{\"backgroundcolor\":\"#E5ECF6\",\"gridcolor\":\"white\",\"gridwidth\":2,\"linecolor\":\"white\",\"showbackground\":true,\"ticks\":\"\",\"zerolinecolor\":\"white\"},\"yaxis\":{\"backgroundcolor\":\"#E5ECF6\",\"gridcolor\":\"white\",\"gridwidth\":2,\"linecolor\":\"white\",\"showbackground\":true,\"ticks\":\"\",\"zerolinecolor\":\"white\"},\"zaxis\":{\"backgroundcolor\":\"#E5ECF6\",\"gridcolor\":\"white\",\"gridwidth\":2,\"linecolor\":\"white\",\"showbackground\":true,\"ticks\":\"\",\"zerolinecolor\":\"white\"}},\"shapedefaults\":{\"line\":{\"color\":\"#2a3f5f\"}},\"ternary\":{\"aaxis\":{\"gridcolor\":\"white\",\"linecolor\":\"white\",\"ticks\":\"\"},\"baxis\":{\"gridcolor\":\"white\",\"linecolor\":\"white\",\"ticks\":\"\"},\"bgcolor\":\"#E5ECF6\",\"caxis\":{\"gridcolor\":\"white\",\"linecolor\":\"white\",\"ticks\":\"\"}},\"title\":{\"x\":0.05},\"xaxis\":{\"automargin\":true,\"gridcolor\":\"white\",\"linecolor\":\"white\",\"ticks\":\"\",\"title\":{\"standoff\":15},\"zerolinecolor\":\"white\",\"zerolinewidth\":2},\"yaxis\":{\"automargin\":true,\"gridcolor\":\"white\",\"linecolor\":\"white\",\"ticks\":\"\",\"title\":{\"standoff\":15},\"zerolinecolor\":\"white\",\"zerolinewidth\":2}}},\"title\":{\"text\":\"Model Score\"}},                        {\"responsive\": true}                    ).then(function(){\n                            \nvar gd = document.getElementById('e51035d4-359c-4b21-b52c-4d5773b2a4fe');\nvar x = new MutationObserver(function (mutations, observer) {{\n        var display = window.getComputedStyle(gd).display;\n        if (!display || display === 'none') {{\n            console.log([gd, 'removed!']);\n            Plotly.purge(gd);\n            observer.disconnect();\n        }}\n}});\n\n// Listen for the removal of the full notebook cells\nvar notebookContainer = gd.closest('#notebook-container');\nif (notebookContainer) {{\n    x.observe(notebookContainer, {childList: true});\n}}\n\n// Listen for the clearing of the current output cell\nvar outputEl = gd.closest('.output');\nif (outputEl) {{\n    x.observe(outputEl, {childList: true});\n}}\n\n                        })                };                });            </script>        </div>"
     },
     "metadata": {},
     "output_type": "display_data"
    }
   ],
   "source": [
    "import plotly.graph_objects as go\n",
    "import os\n",
    "lang = ['cs', 'de', 'fi' , 'lv', 'ru', 'tr', 'zh']\n",
    "columm ='Score'\n",
    "fig = go.Figure()\n",
    "fig.add_trace(go.Scatterpolar(\n",
    "      r= bert_df[columm].to_numpy(),\n",
    "      theta=lang,\n",
    "      fill='toself',\n",
    "      name='mBERT'\n",
    "))\n",
    "fig.add_trace(go.Scatterpolar(\n",
    "      r= xlmrob_df[columm].to_numpy(),\n",
    "      theta=lang,\n",
    "      fill='toself',\n",
    "      name='XLM-RoBERTa'\n",
    "))\n",
    "fig.add_trace(go.Scatterpolar(\n",
    "      r=distil_df[columm].to_numpy(),\n",
    "      theta=lang,\n",
    "      fill='toself',\n",
    "      name='DistilBERT'\n",
    "))\n",
    "fig.add_trace(go.Scatterpolar(\n",
    "      r=tiny1[columm].to_numpy(),\n",
    "      theta=lang,\n",
    "      fill='toself',\n",
    "      name='TinyBERT'\n",
    "))\n",
    "fig.update_layout(\n",
    "  polar=dict(\n",
    "    radialaxis=dict(\n",
    "      visible=True,\n",
    "      range=[0, 1]\n",
    "    )),\n",
    "  showlegend=True,\n",
    "        title = \"Model Score\"\n",
    ")\n",
    "#fig.write_image('images/ModelScore')\n",
    "fig.show()"
   ],
   "metadata": {
    "collapsed": false,
    "pycharm": {
     "name": "#%%\n"
    }
   }
  },
  {
   "cell_type": "code",
   "execution_count": 13,
   "outputs": [
    {
     "ename": "ValueError",
     "evalue": "\nCannot infer image type from output path 'images/ModelLMScore'.\nPlease add a file extension or specify the type using the format parameter.\nFor example:\n\n    >>> import plotly.io as pio\n    >>> pio.write_image(fig, file_path, format='png')\n",
     "output_type": "error",
     "traceback": [
      "\u001B[1;31m---------------------------------------------------------------------------\u001B[0m",
      "\u001B[1;31mValueError\u001B[0m                                Traceback (most recent call last)",
      "\u001B[1;32m<ipython-input-13-276597d5a40c>\u001B[0m in \u001B[0;36m<module>\u001B[1;34m\u001B[0m\n\u001B[0;32m     30\u001B[0m     \u001B[0mtitle\u001B[0m \u001B[1;33m=\u001B[0m \u001B[1;34m\"Model + LM(GP2) for remapping score\"\u001B[0m\u001B[1;33m\u001B[0m\u001B[1;33m\u001B[0m\u001B[0m\n\u001B[0;32m     31\u001B[0m )\n\u001B[1;32m---> 32\u001B[1;33m \u001B[0mfig\u001B[0m\u001B[1;33m.\u001B[0m\u001B[0mwrite_image\u001B[0m\u001B[1;33m(\u001B[0m\u001B[1;34m'images/ModelLMScore'\u001B[0m\u001B[1;33m)\u001B[0m\u001B[1;33m\u001B[0m\u001B[1;33m\u001B[0m\u001B[0m\n\u001B[0m\u001B[0;32m     33\u001B[0m \u001B[0mfig\u001B[0m\u001B[1;33m.\u001B[0m\u001B[0mshow\u001B[0m\u001B[1;33m(\u001B[0m\u001B[1;33m)\u001B[0m\u001B[1;33m\u001B[0m\u001B[1;33m\u001B[0m\u001B[0m\n\u001B[0;32m     34\u001B[0m \u001B[1;33m\u001B[0m\u001B[0m\n",
      "\u001B[1;32me:\\pyhton_verzeichnis\\bib_daten\\lib\\site-packages\\plotly\\basedatatypes.py\u001B[0m in \u001B[0;36mwrite_image\u001B[1;34m(self, *args, **kwargs)\u001B[0m\n\u001B[0;32m   3819\u001B[0m         \u001B[1;32mimport\u001B[0m \u001B[0mplotly\u001B[0m\u001B[1;33m.\u001B[0m\u001B[0mio\u001B[0m \u001B[1;32mas\u001B[0m \u001B[0mpio\u001B[0m\u001B[1;33m\u001B[0m\u001B[1;33m\u001B[0m\u001B[0m\n\u001B[0;32m   3820\u001B[0m \u001B[1;33m\u001B[0m\u001B[0m\n\u001B[1;32m-> 3821\u001B[1;33m         \u001B[1;32mreturn\u001B[0m \u001B[0mpio\u001B[0m\u001B[1;33m.\u001B[0m\u001B[0mwrite_image\u001B[0m\u001B[1;33m(\u001B[0m\u001B[0mself\u001B[0m\u001B[1;33m,\u001B[0m \u001B[1;33m*\u001B[0m\u001B[0margs\u001B[0m\u001B[1;33m,\u001B[0m \u001B[1;33m**\u001B[0m\u001B[0mkwargs\u001B[0m\u001B[1;33m)\u001B[0m\u001B[1;33m\u001B[0m\u001B[1;33m\u001B[0m\u001B[0m\n\u001B[0m\u001B[0;32m   3822\u001B[0m \u001B[1;33m\u001B[0m\u001B[0m\n\u001B[0;32m   3823\u001B[0m     \u001B[1;31m# Static helpers\u001B[0m\u001B[1;33m\u001B[0m\u001B[1;33m\u001B[0m\u001B[1;33m\u001B[0m\u001B[0m\n",
      "\u001B[1;32me:\\pyhton_verzeichnis\\bib_daten\\lib\\site-packages\\plotly\\io\\_kaleido.py\u001B[0m in \u001B[0;36mwrite_image\u001B[1;34m(fig, file, format, scale, width, height, validate, engine)\u001B[0m\n\u001B[0;32m    250\u001B[0m             \u001B[0mformat\u001B[0m \u001B[1;33m=\u001B[0m \u001B[0mext\u001B[0m\u001B[1;33m.\u001B[0m\u001B[0mlstrip\u001B[0m\u001B[1;33m(\u001B[0m\u001B[1;34m\".\"\u001B[0m\u001B[1;33m)\u001B[0m\u001B[1;33m\u001B[0m\u001B[1;33m\u001B[0m\u001B[0m\n\u001B[0;32m    251\u001B[0m         \u001B[1;32melse\u001B[0m\u001B[1;33m:\u001B[0m\u001B[1;33m\u001B[0m\u001B[1;33m\u001B[0m\u001B[0m\n\u001B[1;32m--> 252\u001B[1;33m             raise ValueError(\n\u001B[0m\u001B[0;32m    253\u001B[0m                 \"\"\"\n\u001B[0;32m    254\u001B[0m \u001B[0mCannot\u001B[0m \u001B[0minfer\u001B[0m \u001B[0mimage\u001B[0m \u001B[0mtype\u001B[0m \u001B[1;32mfrom\u001B[0m \u001B[0moutput\u001B[0m \u001B[0mpath\u001B[0m \u001B[1;34m'{file}'\u001B[0m\u001B[1;33m.\u001B[0m\u001B[1;33m\u001B[0m\u001B[1;33m\u001B[0m\u001B[0m\n",
      "\u001B[1;31mValueError\u001B[0m: \nCannot infer image type from output path 'images/ModelLMScore'.\nPlease add a file extension or specify the type using the format parameter.\nFor example:\n\n    >>> import plotly.io as pio\n    >>> pio.write_image(fig, file_path, format='png')\n"
     ]
    }
   ],
   "source": [
    "import plotly.graph_objects as go\n",
    "lang = ['cs', 'de', 'fi' , 'lv', 'ru', 'tr', 'zh']\n",
    "columm ='LM_Score'\n",
    "fig = go.Figure()\n",
    "fig.add_trace(go.Scatterpolar(\n",
    "      r= xlm[columm].to_numpy(),\n",
    "      theta=lang,\n",
    "      fill='toself',\n",
    "      name='XLM-Roberta'\n",
    "))\n",
    "fig.add_trace(go.Scatterpolar(\n",
    "      r=dist[columm].to_numpy(),\n",
    "      theta=lang,\n",
    "      fill='toself',\n",
    "      name='DistilBERT'\n",
    "))\n",
    "fig.add_trace(go.Scatterpolar(\n",
    "      r=tiny[columm].to_numpy(),\n",
    "      theta=lang,\n",
    "      fill='toself',\n",
    "      name='TinyBERT'\n",
    "))\n",
    "fig.update_layout(\n",
    "  polar=dict(\n",
    "    radialaxis=dict(\n",
    "      visible=True,\n",
    "      range=[0, 3]\n",
    "    )),\n",
    "  showlegend=True,\n",
    "    title = \"Model + LM(GP2) for remapping score\"\n",
    ")\n",
    "#fig.write_image('images/ModelLMScore')\n",
    "fig.show()"
   ],
   "metadata": {
    "collapsed": false,
    "pycharm": {
     "name": "#%%\n"
    }
   }
  },
  {
   "cell_type": "code",
   "execution_count": 48,
   "outputs": [
    {
     "name": "stderr",
     "output_type": "stream",
     "text": [
      "No handles with labels found to put in legend.\n"
     ]
    },
    {
     "data": {
      "text/plain": "<Figure size 648x216 with 2 Axes>",
      "image/png": "[encoded data removed]"
     },
     "metadata": {
      "needs_background": "light"
     },
     "output_type": "display_data"
    },
    {
     "name": "stdout",
     "output_type": "stream",
     "text": [
      "[1, 0.1815561795298372, 0.4656573002909622, 0.19659377733509037]\n",
      "[1, 0.8767568711433992, 0.9115580593395549, 0.7752347646983395]\n"
     ]
    }
   ],
   "source": [
    "# For Scores\n",
    "import matplotlib.pyplot as plt\n",
    "# Summaraize scores\n",
    "performance_models = ['BERT','XLM-RoBERTa', 'DistilBERT', 'TinyBERT']\n",
    "performance_scores = [1, 0, 0, 0]\n",
    "performance_lmscores= [1, 0, 0, 0]\n",
    "\n",
    "for i in range(len(performance_scores)-1):\n",
    "    for j in range(7):\n",
    "        performance_scores[i+1] = performance_scores[i+1] + models[i].iloc[j,1]\n",
    "        performance_lmscores[i+1] = performance_lmscores[i+1] + models[i].iloc[j,4]\n",
    "\n",
    "    performance_scores[i+1] = performance_scores[i+1] / 7\n",
    "    performance_lmscores[i+1] = performance_lmscores[i+1] / 7\n",
    "\n",
    "plt.figure(figsize=(9, 3))\n",
    "plt.subplot(121)\n",
    "plt.bar(performance_models, performance_scores)\n",
    "plt.subplot(122)\n",
    "plt.bar(performance_models, performance_lmscores)\n",
    "plt.suptitle('Scores ')\n",
    "plt.legend()\n",
    "plt.show()"
   ],
   "metadata": {
    "collapsed": false,
    "pycharm": {
     "name": "#%%\n"
    }
   }
  },
  {
   "cell_type": "code",
   "execution_count": null,
   "outputs": [],
   "source": [
    "import matplotlib.pyplot as plt\n",
    "# Summaraize scores\n",
    "performance_models = ['BERT','XLM-RoBERTa', 'DistilBERT', 'TinyBERT']\n",
    "performance_scores = [1, 0, 0, 0]\n",
    "performance_lmscores= [1, 0, 0, 0]\n",
    "\n",
    "for i in range(len(performance_scores)-1):\n",
    "    for j in range(7):\n",
    "        performance_scores[i+1] = performance_scores[i+1] + models[i].iloc[j,1]\n",
    "        performance_lmscores[i+1] = performance_lmscores[i+1] + models[i].iloc[j,4]\n",
    "\n",
    "    performance_scores[i+1] = performance_scores[i+1] / 7\n",
    "    performance_lmscores[i+1] = performance_lmscores[i+1] / 7\n",
    "\n",
    "plt.figure(figsize=(9, 3))\n",
    "plt.subplot(121)\n",
    "plt.bar(performance_models, performance_scores)\n",
    "plt.subplot(122)\n",
    "plt.bar(performance_models, performance_lmscores)\n",
    "plt.suptitle('Scores ')\n",
    "plt.legend()\n",
    "plt.show()"
   ],
   "metadata": {
    "collapsed": false,
    "pycharm": {
     "name": "#%%\n"
    }
   }
  },
  {
   "cell_type": "code",
   "execution_count": 55,
   "outputs": [
    {
     "name": "stderr",
     "output_type": "stream",
     "text": [
      "No handles with labels found to put in legend.\n"
     ]
    },
    {
     "name": "stdout",
     "output_type": "stream",
     "text": [
      "[1, 0.8767568711433992, 0.9115580593395549, 0.7752347646983395]\n"
     ]
    },
    {
     "data": {
      "text/plain": "<Figure size 648x216 with 2 Axes>",
      "image/png": "[encoded data removed]"
     },
     "metadata": {
      "needs_background": "light"
     },
     "output_type": "display_data"
    }
   ],
   "source": [
    "performance_models = ['BERT','XLM-RoBERTa', 'DistilBERT', 'TinyBERT']\n",
    "performance_time = [1, 0, 0, 0]\n",
    "performance_lmtime= [1, 0, 0, 0]\n",
    "performance_usage= [1, 0, 0, 0]\n",
    "performance_lmusage= [1, 0, 0, 0]\n",
    "\n",
    "\n",
    "for i in range(len(performance_scores)-1):\n",
    "    for j in range(7):\n",
    "        performance_time[i+1] = performance_time[i+1] + models[i].iloc[j,1]\n",
    "        performance_lmtime[i+1] = performance_lmtime[i+1] + models[i].iloc[j,4]\n",
    "\n",
    "    performance_time[i+1] = performance_time[i+1] / 7\n",
    "    performance_lmtime[i+1] = performance_lmtime[i+1] / 7\n",
    "\n",
    "def Avg_values(model, feature):\n",
    "    perf = [1, 0, 0, 0]\n",
    "    for i in range(len(perf)-1):\n",
    "        for j in range(7):\n",
    "            perf[i+1] = perf[i+1] + models[i].iloc[j,feature]\n",
    "        perf[i+1] = perf[i+1] / 7\n",
    "    return perf\n",
    "print(Avg_values(1,4))\n",
    "\n",
    "\n",
    "\n",
    "\n",
    "\n",
    "plt.figure(figsize=(9, 3))\n",
    "plt.subplot(121)\n",
    "plt.bar(performance_models, performance_scores)\n",
    "plt.subplot(122)\n",
    "plt.bar(performance_models, performance_lmscores)\n",
    "plt.suptitle('Scores ')\n",
    "plt.legend()\n",
    "plt.show()\n",
    "\n",
    "\n"
   ],
   "metadata": {
    "collapsed": false,
    "pycharm": {
     "name": "#%% Plot Time and Usage\n"
    }
   }
  }
 ],
 "metadata": {
  "kernelspec": {
   "display_name": "Python 3",
   "language": "python",
   "name": "python3"
  },
  "language_info": {
   "codemirror_mode": {
    "name": "ipython",
    "version": 2
   },
   "file_extension": ".py",
   "mimetype": "text/x-python",
   "name": "python",
   "nbconvert_exporter": "python",
   "pygments_lexer": "ipython2",
   "version": "2.7.6"
  }
 },
 "nbformat": 4,
 "nbformat_minor": 0
}