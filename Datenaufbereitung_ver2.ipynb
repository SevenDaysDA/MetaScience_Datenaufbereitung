{
 "cells": [
  {
   "cell_type": "code",
   "execution_count": 6,
   "outputs": [
    {
     "name": "stdout",
     "output_type": "stream",
     "text": [
      "test\n",
      "      LP  Score       Time    Memory  LM_Score   LM_Time  LM_Usage\n",
      "0  cs-en  0.235  15.855671  3.558393     0.442  9.398126  0.964480\n",
      "1  de-en  0.395  13.523358  2.286151     0.485  9.307220  0.877646\n",
      "2  fi-en  0.337  13.095006  2.195590     0.622  9.155854  0.491279\n",
      "3  lv-en  0.222  14.211346  3.180200     0.591  7.273632  0.303442\n",
      "4  ru-en  0.342  15.529096  2.705046     0.491  9.320954  0.264931\n",
      "5  tr-en  0.341  14.867953  3.258908     0.474  9.124849  0.227061\n",
      "6  zh-en  0.369  16.058394  2.547295     0.456  9.213624  0.818694\n",
      "       LP  Score       Time    Memory  LM_Score   LM_Time  LM_Usage\n",
      "7   cs-en  0.058  11.825575  3.475181     0.391  9.347923  0.781649\n",
      "8   de-en  0.291  10.474583  2.264133     0.454  9.315544  0.711144\n",
      "9   fi-en  0.134  10.293857  2.184611     0.586  9.161947  0.332957\n",
      "10  lv-en -0.049  11.559869  3.173271     0.539  7.214934  0.248930\n",
      "11  ru-en  0.209  12.320973  2.701613     0.444  9.189983  0.264907\n",
      "12  tr-en  0.081  11.502283  3.258275     0.414  9.166659  0.227253\n",
      "13  zh-en  0.302  12.655150  2.544646     0.422  9.258699  0.818718\n",
      "       LP  Score       Time    Memory  LM_Score   LM_Time  LM_Usage\n",
      "14  cs-en  0.522  13.434774  3.119256     0.550  9.357930  0.781249\n",
      "15  de-en  0.589  13.019631  2.614598     0.586  9.367455  0.711064\n",
      "16  fi-en  0.697  11.060187  2.085313     0.716  9.247418  0.332877\n",
      "17  lv-en  0.610  11.423567  2.570462     0.689  7.224518  0.248850\n",
      "18  ru-en  0.640  13.486646  2.560999     0.650  9.348438  0.264931\n",
      "19  tr-en  0.637  11.945083  2.574326     0.626  9.324737  0.227117\n",
      "20  zh-en  0.540  12.567549  2.387927     0.558  9.309676  0.818638\n",
      "       LP  Score       Time    Memory  LM_Score   LM_Time  LM_Usage\n",
      "21  cs-en  0.161   9.066475  1.931327     0.299  9.444648  0.781249\n",
      "22  de-en  0.178  10.487882  1.964911     0.310  9.298769  0.711008\n",
      "23  fi-en  0.338   9.785728  1.709673     0.548  9.276955  0.332821\n",
      "24  lv-en  0.210   7.456413  2.194751     0.434  7.251883  0.248954\n",
      "25  ru-en  0.210  32.350783  6.495305     0.366  9.202943  0.264875\n",
      "26  tr-en  0.250  11.101510  2.818414     0.379  9.197371  0.227061\n",
      "27  zh-en  0.330  12.846279  2.144281     0.437  9.270823  0.818638\n"
     ]
    }
   ],
   "source": [
    "# Daten Einlesen\n",
    "import pandas as pd\n",
    "filename1 = 'XMOVERScore_FinalBench.csv'\n",
    "\n",
    "\n",
    "data = pd.read_csv(filename1)\n",
    "\n",
    "\n",
    "\n",
    "bert = data.iloc[0:7]\n",
    "distilbert = data.iloc[7:14]\n",
    "xlmr = data.iloc[14:21]\n",
    "tiny = data.iloc[21:]\n",
    "\n",
    "\n",
    "models_df = [bert, distilbert, xlmr, tiny]\n",
    "models_df_sort =  [distilbert, xlmr, tiny, bert]\n",
    "for mod in models_df:\n",
    "    print(mod)"
   ],
   "metadata": {
    "collapsed": false,
    "pycharm": {
     "name": "#%%\n"
    }
   }
  },
  {
   "cell_type": "code",
   "execution_count": 7,
   "outputs": [
    {
     "name": "stdout",
     "output_type": "stream",
     "text": [
      "       LP     Score      Time    Memory  LM_Score   LM_Time  LM_Usage\n",
      "7   cs-en  0.246809  0.745826  0.976615  0.884615  0.994658  0.810436\n",
      "8   de-en  0.736709  0.774555  0.990369  0.936082  1.000894  0.810286\n",
      "9   fi-en  0.397626  0.786090  0.995000  0.942122  1.000665  0.677735\n",
      "10  lv-en  0.220721  0.813425  0.997821  0.912014  0.991930  0.820354\n",
      "11  ru-en  0.611111  0.793412  0.998731  0.904277  0.985949  0.999909\n",
      "12  tr-en  0.237537  0.773629  0.999806  0.873418  1.004582  1.000846\n",
      "13  zh-en  0.818428  0.788071  0.998960  0.925439  1.004892  1.000029\n",
      "       LP     Score      Time    Memory  LM_Score   LM_Time  LM_Usage\n",
      "14  cs-en  2.221277  0.847317  0.876591  1.244344  0.995723  0.810021\n",
      "15  de-en  1.491139  0.962751  1.143668  1.208247  1.006472  0.810195\n",
      "16  fi-en  2.068249  0.844611  0.949773  1.151125  1.010001  0.677572\n",
      "17  lv-en  2.747748  0.803834  0.808271  1.165821  0.993248  0.820091\n",
      "18  ru-en  1.871345  0.868476  0.946749  1.323829  1.002949  1.000000\n",
      "19  tr-en  1.868035  0.803411  0.789935  1.320675  1.021906  1.000247\n",
      "20  zh-en  1.463415  0.782616  0.937436  1.223684  1.010425  0.999932\n",
      "       LP     Score      Time    Memory  LM_Score   LM_Time  LM_Usage\n",
      "21  cs-en  0.685106  0.571813  0.542753  0.676471  1.004950  0.810021\n",
      "22  de-en  0.450633  0.775538  0.859484  0.639175  0.999092  0.810131\n",
      "23  fi-en  1.002967  0.747287  0.778685  0.881029  1.013227  0.677458\n",
      "24  lv-en  0.945946  0.524680  0.690130  0.734349  0.997010  0.820434\n",
      "25  ru-en  0.614035  2.083237  2.401181  0.745418  0.987339  0.999789\n",
      "26  tr-en  0.733138  0.746674  0.864834  0.799578  1.007948  1.000000\n",
      "27  zh-en  0.894309  0.799973  0.841787  0.958333  1.006208  0.999932\n"
     ]
    }
   ],
   "source": [
    "# Aufbereitung\n",
    "dist = distilbert.copy()\n",
    "xlm= xlmr.copy()\n",
    "tiny = tiny.copy()\n",
    "\n",
    "for col in range(1,xlm.shape[1]):\n",
    "    for row in range(xlm.shape[0]):\n",
    "        xlm.iloc[row, col] =  abs(xlm.iloc[row, col].copy() / bert.iloc[row, col].copy())\n",
    "        dist.iloc[row, col] = abs(dist.iloc[row, col].copy() / bert.iloc[row, col].copy())\n",
    "        tiny.iloc[row, col] =  abs(tiny.iloc[row, col].copy() / bert.iloc[row, col].copy())\n",
    "models=[dist,xlm,tiny]\n",
    "print(dist)\n",
    "print(xlm)\n",
    "print(tiny)"
   ],
   "metadata": {
    "collapsed": false,
    "pycharm": {
     "name": "#%%\n"
    }
   }
  },
  {
   "cell_type": "code",
   "execution_count": 10,
   "outputs": [
    {
     "ename": "ModuleNotFoundError",
     "evalue": "No module named 'plotly'",
     "output_type": "error",
     "traceback": [
      "\u001B[1;31m---------------------------------------------------------------------------\u001B[0m",
      "\u001B[1;31mModuleNotFoundError\u001B[0m                       Traceback (most recent call last)",
      "\u001B[1;32m<ipython-input-10-c4174563dde9>\u001B[0m in \u001B[0;36m<module>\u001B[1;34m\u001B[0m\n\u001B[1;32m----> 1\u001B[1;33m \u001B[1;32mimport\u001B[0m \u001B[0mplotly\u001B[0m\u001B[1;33m.\u001B[0m\u001B[0mgraph_objects\u001B[0m \u001B[1;32mas\u001B[0m \u001B[0mgo\u001B[0m\u001B[1;33m\u001B[0m\u001B[1;33m\u001B[0m\u001B[0m\n\u001B[0m\u001B[0;32m      2\u001B[0m \u001B[1;32mimport\u001B[0m \u001B[0mplotly\u001B[0m\u001B[1;33m.\u001B[0m\u001B[0mio\u001B[0m \u001B[1;32mas\u001B[0m \u001B[0mpio\u001B[0m\u001B[1;33m\u001B[0m\u001B[1;33m\u001B[0m\u001B[0m\n\u001B[0;32m      3\u001B[0m \u001B[1;33m\u001B[0m\u001B[0m\n\u001B[0;32m      4\u001B[0m \u001B[0mmodelle\u001B[0m \u001B[1;33m=\u001B[0m \u001B[0mmodels_df\u001B[0m\u001B[1;33m\u001B[0m\u001B[1;33m\u001B[0m\u001B[0m\n\u001B[0;32m      5\u001B[0m \u001B[0mlang\u001B[0m \u001B[1;33m=\u001B[0m \u001B[1;33m[\u001B[0m\u001B[1;34m'cs'\u001B[0m\u001B[1;33m,\u001B[0m \u001B[1;34m'de'\u001B[0m\u001B[1;33m,\u001B[0m \u001B[1;34m'fi'\u001B[0m \u001B[1;33m,\u001B[0m \u001B[1;34m'lv'\u001B[0m\u001B[1;33m,\u001B[0m \u001B[1;34m'ru'\u001B[0m\u001B[1;33m,\u001B[0m \u001B[1;34m'tr'\u001B[0m\u001B[1;33m,\u001B[0m \u001B[1;34m'zh'\u001B[0m\u001B[1;33m]\u001B[0m\u001B[1;33m\u001B[0m\u001B[1;33m\u001B[0m\u001B[0m\n",
      "\u001B[1;31mModuleNotFoundError\u001B[0m: No module named 'plotly'"
     ]
    }
   ],
   "source": [
    "import plotly.graph_objects as go\n",
    "import plotly.io as pio\n",
    "\n",
    "modelle = models_df\n",
    "lang = ['cs', 'de', 'fi' , 'lv', 'ru', 'tr', 'zh']\n",
    "columm ='Score'\n",
    "fig = go.Figure()\n",
    "\n",
    "fig.add_trace(go.Scatterpolar(\n",
    "      r=  modelle[2][columm].to_numpy(),\n",
    "      theta=lang,\n",
    "      fill='toself',\n",
    "      name='XLM-RoBERTa'\n",
    "))\n",
    "fig.add_trace(go.Scatterpolar(\n",
    "      r= modelle[1][columm].to_numpy(),\n",
    "      theta=lang,\n",
    "      fill='toself',\n",
    "      name='DistilBERT'\n",
    "))\n",
    "fig.add_trace(go.Scatterpolar(\n",
    "      r= modelle[3][columm].to_numpy(),\n",
    "      theta=lang,\n",
    "      fill='toself',\n",
    "      name='TinyBERT'\n",
    "))\n",
    "fig.add_trace(go.Scatterpolar(\n",
    "      r= modelle[0][columm].to_numpy(),\n",
    "      theta=lang,\n",
    "      fill='toself',\n",
    "      name='mBERT',\n",
    "      color='red'\n",
    "))\n",
    "fig.update_layout(\n",
    "  polar=dict(\n",
    "    radialaxis=dict(\n",
    "      visible=True,\n",
    "      range=[0, 1]\n",
    "\n",
    "    )),\n",
    "  showlegend=True,\n",
    "        title = \"Model Score\"\n",
    ")\n",
    "#pio.write_image(fig,'images/ModelScore.png' , format='png')\n",
    "fig.show()\n"
   ],
   "metadata": {
    "collapsed": false,
    "pycharm": {
     "name": "#%%\n"
    }
   }
  },
  {
   "cell_type": "code",
   "execution_count": 4,
   "outputs": [
    {
     "data": {
      "application/vnd.plotly.v1+json": {
       "config": {
        "plotlyServerURL": "https://plot.ly"
       },
       "data": [
        {
         "fill": "toself",
         "name": "mBERT",
         "r": [
          0.442,
          0.485,
          0.622,
          0.591,
          0.491,
          0.474,
          0.456
         ],
         "theta": [
          "cs",
          "de",
          "fi",
          "lv",
          "ru",
          "tr",
          "zh"
         ],
         "type": "scatterpolar"
        },
        {
         "fill": "toself",
         "name": "XLM-RoBERTa",
         "r": [
          0.55,
          0.586,
          0.716,
          0.689,
          0.65,
          0.626,
          0.558
         ],
         "theta": [
          "cs",
          "de",
          "fi",
          "lv",
          "ru",
          "tr",
          "zh"
         ],
         "type": "scatterpolar"
        },
        {
         "fill": "toself",
         "name": "DistilBERT",
         "r": [
          0.391,
          0.454,
          0.586,
          0.539,
          0.444,
          0.414,
          0.422
         ],
         "theta": [
          "cs",
          "de",
          "fi",
          "lv",
          "ru",
          "tr",
          "zh"
         ],
         "type": "scatterpolar"
        },
        {
         "fill": "toself",
         "name": "TinyBERT",
         "r": [
          0.299,
          0.31,
          0.548,
          0.434,
          0.366,
          0.379,
          0.437
         ],
         "theta": [
          "cs",
          "de",
          "fi",
          "lv",
          "ru",
          "tr",
          "zh"
         ],
         "type": "scatterpolar"
        }
       ],
       "layout": {
        "polar": {
         "radialaxis": {
          "range": [
           0,
           1
          ],
          "visible": true
         }
        },
        "showlegend": true,
        "template": {
         "data": {
          "bar": [
           {
            "error_x": {
             "color": "#2a3f5f"
            },
            "error_y": {
             "color": "#2a3f5f"
            },
            "marker": {
             "line": {
              "color": "#E5ECF6",
              "width": 0.5
             },
             "pattern": {
              "fillmode": "overlay",
              "size": 10,
              "solidity": 0.2
             }
            },
            "type": "bar"
           }
          ],
          "barpolar": [
           {
            "marker": {
             "line": {
              "color": "#E5ECF6",
              "width": 0.5
             },
             "pattern": {
              "fillmode": "overlay",
              "size": 10,
              "solidity": 0.2
             }
            },
            "type": "barpolar"
           }
          ],
          "carpet": [
           {
            "aaxis": {
             "endlinecolor": "#2a3f5f",
             "gridcolor": "white",
             "linecolor": "white",
             "minorgridcolor": "white",
             "startlinecolor": "#2a3f5f"
            },
            "baxis": {
             "endlinecolor": "#2a3f5f",
             "gridcolor": "white",
             "linecolor": "white",
             "minorgridcolor": "white",
             "startlinecolor": "#2a3f5f"
            },
            "type": "carpet"
           }
          ],
          "choropleth": [
           {
            "colorbar": {
             "outlinewidth": 0,
             "ticks": ""
            },
            "type": "choropleth"
           }
          ],
          "contour": [
           {
            "colorbar": {
             "outlinewidth": 0,
             "ticks": ""
            },
            "colorscale": [
             [
              0.0,
              "#0d0887"
             ],
             [
              0.1111111111111111,
              "#46039f"
             ],
             [
              0.2222222222222222,
              "#7201a8"
             ],
             [
              0.3333333333333333,
              "#9c179e"
             ],
             [
              0.4444444444444444,
              "#bd3786"
             ],
             [
              0.5555555555555556,
              "#d8576b"
             ],
             [
              0.6666666666666666,
              "#ed7953"
             ],
             [
              0.7777777777777778,
              "#fb9f3a"
             ],
             [
              0.8888888888888888,
              "#fdca26"
             ],
             [
              1.0,
              "#f0f921"
             ]
            ],
            "type": "contour"
           }
          ],
          "contourcarpet": [
           {
            "colorbar": {
             "outlinewidth": 0,
             "ticks": ""
            },
            "type": "contourcarpet"
           }
          ],
          "heatmap": [
           {
            "colorbar": {
             "outlinewidth": 0,
             "ticks": ""
            },
            "colorscale": [
             [
              0.0,
              "#0d0887"
             ],
             [
              0.1111111111111111,
              "#46039f"
             ],
             [
              0.2222222222222222,
              "#7201a8"
             ],
             [
              0.3333333333333333,
              "#9c179e"
             ],
             [
              0.4444444444444444,
              "#bd3786"
             ],
             [
              0.5555555555555556,
              "#d8576b"
             ],
             [
              0.6666666666666666,
              "#ed7953"
             ],
             [
              0.7777777777777778,
              "#fb9f3a"
             ],
             [
              0.8888888888888888,
              "#fdca26"
             ],
             [
              1.0,
              "#f0f921"
             ]
            ],
            "type": "heatmap"
           }
          ],
          "heatmapgl": [
           {
            "colorbar": {
             "outlinewidth": 0,
             "ticks": ""
            },
            "colorscale": [
             [
              0.0,
              "#0d0887"
             ],
             [
              0.1111111111111111,
              "#46039f"
             ],
             [
              0.2222222222222222,
              "#7201a8"
             ],
             [
              0.3333333333333333,
              "#9c179e"
             ],
             [
              0.4444444444444444,
              "#bd3786"
             ],
             [
              0.5555555555555556,
              "#d8576b"
             ],
             [
              0.6666666666666666,
              "#ed7953"
             ],
             [
              0.7777777777777778,
              "#fb9f3a"
             ],
             [
              0.8888888888888888,
              "#fdca26"
             ],
             [
              1.0,
              "#f0f921"
             ]
            ],
            "type": "heatmapgl"
           }
          ],
          "histogram": [
           {
            "marker": {
             "pattern": {
              "fillmode": "overlay",
              "size": 10,
              "solidity": 0.2
             }
            },
            "type": "histogram"
           }
          ],
          "histogram2d": [
           {
            "colorbar": {
             "outlinewidth": 0,
             "ticks": ""
            },
            "colorscale": [
             [
              0.0,
              "#0d0887"
             ],
             [
              0.1111111111111111,
              "#46039f"
             ],
             [
              0.2222222222222222,
              "#7201a8"
             ],
             [
              0.3333333333333333,
              "#9c179e"
             ],
             [
              0.4444444444444444,
              "#bd3786"
             ],
             [
              0.5555555555555556,
              "#d8576b"
             ],
             [
              0.6666666666666666,
              "#ed7953"
             ],
             [
              0.7777777777777778,
              "#fb9f3a"
             ],
             [
              0.8888888888888888,
              "#fdca26"
             ],
             [
              1.0,
              "#f0f921"
             ]
            ],
            "type": "histogram2d"
           }
          ],
          "histogram2dcontour": [
           {
            "colorbar": {
             "outlinewidth": 0,
             "ticks": ""
            },
            "colorscale": [
             [
              0.0,
              "#0d0887"
             ],
             [
              0.1111111111111111,
              "#46039f"
             ],
             [
              0.2222222222222222,
              "#7201a8"
             ],
             [
              0.3333333333333333,
              "#9c179e"
             ],
             [
              0.4444444444444444,
              "#bd3786"
             ],
             [
              0.5555555555555556,
              "#d8576b"
             ],
             [
              0.6666666666666666,
              "#ed7953"
             ],
             [
              0.7777777777777778,
              "#fb9f3a"
             ],
             [
              0.8888888888888888,
              "#fdca26"
             ],
             [
              1.0,
              "#f0f921"
             ]
            ],
            "type": "histogram2dcontour"
           }
          ],
          "mesh3d": [
           {
            "colorbar": {
             "outlinewidth": 0,
             "ticks": ""
            },
            "type": "mesh3d"
           }
          ],
          "parcoords": [
           {
            "line": {
             "colorbar": {
              "outlinewidth": 0,
              "ticks": ""
             }
            },
            "type": "parcoords"
           }
          ],
          "pie": [
           {
            "automargin": true,
            "type": "pie"
           }
          ],
          "scatter": [
           {
            "marker": {
             "colorbar": {
              "outlinewidth": 0,
              "ticks": ""
             }
            },
            "type": "scatter"
           }
          ],
          "scatter3d": [
           {
            "line": {
             "colorbar": {
              "outlinewidth": 0,
              "ticks": ""
             }
            },
            "marker": {
             "colorbar": {
              "outlinewidth": 0,
              "ticks": ""
             }
            },
            "type": "scatter3d"
           }
          ],
          "scattercarpet": [
           {
            "marker": {
             "colorbar": {
              "outlinewidth": 0,
              "ticks": ""
             }
            },
            "type": "scattercarpet"
           }
          ],
          "scattergeo": [
           {
            "marker": {
             "colorbar": {
              "outlinewidth": 0,
              "ticks": ""
             }
            },
            "type": "scattergeo"
           }
          ],
          "scattergl": [
           {
            "marker": {
             "colorbar": {
              "outlinewidth": 0,
              "ticks": ""
             }
            },
            "type": "scattergl"
           }
          ],
          "scattermapbox": [
           {
            "marker": {
             "colorbar": {
              "outlinewidth": 0,
              "ticks": ""
             }
            },
            "type": "scattermapbox"
           }
          ],
          "scatterpolar": [
           {
            "marker": {
             "colorbar": {
              "outlinewidth": 0,
              "ticks": ""
             }
            },
            "type": "scatterpolar"
           }
          ],
          "scatterpolargl": [
           {
            "marker": {
             "colorbar": {
              "outlinewidth": 0,
              "ticks": ""
             }
            },
            "type": "scatterpolargl"
           }
          ],
          "scatterternary": [
           {
            "marker": {
             "colorbar": {
              "outlinewidth": 0,
              "ticks": ""
             }
            },
            "type": "scatterternary"
           }
          ],
          "surface": [
           {
            "colorbar": {
             "outlinewidth": 0,
             "ticks": ""
            },
            "colorscale": [
             [
              0.0,
              "#0d0887"
             ],
             [
              0.1111111111111111,
              "#46039f"
             ],
             [
              0.2222222222222222,
              "#7201a8"
             ],
             [
              0.3333333333333333,
              "#9c179e"
             ],
             [
              0.4444444444444444,
              "#bd3786"
             ],
             [
              0.5555555555555556,
              "#d8576b"
             ],
             [
              0.6666666666666666,
              "#ed7953"
             ],
             [
              0.7777777777777778,
              "#fb9f3a"
             ],
             [
              0.8888888888888888,
              "#fdca26"
             ],
             [
              1.0,
              "#f0f921"
             ]
            ],
            "type": "surface"
           }
          ],
          "table": [
           {
            "cells": {
             "fill": {
              "color": "#EBF0F8"
             },
             "line": {
              "color": "white"
             }
            },
            "header": {
             "fill": {
              "color": "#C8D4E3"
             },
             "line": {
              "color": "white"
             }
            },
            "type": "table"
           }
          ]
         },
         "layout": {
          "annotationdefaults": {
           "arrowcolor": "#2a3f5f",
           "arrowhead": 0,
           "arrowwidth": 1
          },
          "autotypenumbers": "strict",
          "coloraxis": {
           "colorbar": {
            "outlinewidth": 0,
            "ticks": ""
           }
          },
          "colorscale": {
           "diverging": [
            [
             0,
             "#8e0152"
            ],
            [
             0.1,
             "#c51b7d"
            ],
            [
             0.2,
             "#de77ae"
            ],
            [
             0.3,
             "#f1b6da"
            ],
            [
             0.4,
             "#fde0ef"
            ],
            [
             0.5,
             "#f7f7f7"
            ],
            [
             0.6,
             "#e6f5d0"
            ],
            [
             0.7,
             "#b8e186"
            ],
            [
             0.8,
             "#7fbc41"
            ],
            [
             0.9,
             "#4d9221"
            ],
            [
             1,
             "#276419"
            ]
           ],
           "sequential": [
            [
             0.0,
             "#0d0887"
            ],
            [
             0.1111111111111111,
             "#46039f"
            ],
            [
             0.2222222222222222,
             "#7201a8"
            ],
            [
             0.3333333333333333,
             "#9c179e"
            ],
            [
             0.4444444444444444,
             "#bd3786"
            ],
            [
             0.5555555555555556,
             "#d8576b"
            ],
            [
             0.6666666666666666,
             "#ed7953"
            ],
            [
             0.7777777777777778,
             "#fb9f3a"
            ],
            [
             0.8888888888888888,
             "#fdca26"
            ],
            [
             1.0,
             "#f0f921"
            ]
           ],
           "sequentialminus": [
            [
             0.0,
             "#0d0887"
            ],
            [
             0.1111111111111111,
             "#46039f"
            ],
            [
             0.2222222222222222,
             "#7201a8"
            ],
            [
             0.3333333333333333,
             "#9c179e"
            ],
            [
             0.4444444444444444,
             "#bd3786"
            ],
            [
             0.5555555555555556,
             "#d8576b"
            ],
            [
             0.6666666666666666,
             "#ed7953"
            ],
            [
             0.7777777777777778,
             "#fb9f3a"
            ],
            [
             0.8888888888888888,
             "#fdca26"
            ],
            [
             1.0,
             "#f0f921"
            ]
           ]
          },
          "colorway": [
           "#636efa",
           "#EF553B",
           "#00cc96",
           "#ab63fa",
           "#FFA15A",
           "#19d3f3",
           "#FF6692",
           "#B6E880",
           "#FF97FF",
           "#FECB52"
          ],
          "font": {
           "color": "#2a3f5f"
          },
          "geo": {
           "bgcolor": "white",
           "lakecolor": "white",
           "landcolor": "#E5ECF6",
           "showlakes": true,
           "showland": true,
           "subunitcolor": "white"
          },
          "hoverlabel": {
           "align": "left"
          },
          "hovermode": "closest",
          "mapbox": {
           "style": "light"
          },
          "paper_bgcolor": "white",
          "plot_bgcolor": "#E5ECF6",
          "polar": {
           "angularaxis": {
            "gridcolor": "white",
            "linecolor": "white",
            "ticks": ""
           },
           "bgcolor": "#E5ECF6",
           "radialaxis": {
            "gridcolor": "white",
            "linecolor": "white",
            "ticks": ""
           }
          },
          "scene": {
           "xaxis": {
            "backgroundcolor": "#E5ECF6",
            "gridcolor": "white",
            "gridwidth": 2,
            "linecolor": "white",
            "showbackground": true,
            "ticks": "",
            "zerolinecolor": "white"
           },
           "yaxis": {
            "backgroundcolor": "#E5ECF6",
            "gridcolor": "white",
            "gridwidth": 2,
            "linecolor": "white",
            "showbackground": true,
            "ticks": "",
            "zerolinecolor": "white"
           },
           "zaxis": {
            "backgroundcolor": "#E5ECF6",
            "gridcolor": "white",
            "gridwidth": 2,
            "linecolor": "white",
            "showbackground": true,
            "ticks": "",
            "zerolinecolor": "white"
           }
          },
          "shapedefaults": {
           "line": {
            "color": "#2a3f5f"
           }
          },
          "ternary": {
           "aaxis": {
            "gridcolor": "white",
            "linecolor": "white",
            "ticks": ""
           },
           "baxis": {
            "gridcolor": "white",
            "linecolor": "white",
            "ticks": ""
           },
           "bgcolor": "#E5ECF6",
           "caxis": {
            "gridcolor": "white",
            "linecolor": "white",
            "ticks": ""
           }
          },
          "title": {
           "x": 0.05
          },
          "xaxis": {
           "automargin": true,
           "gridcolor": "white",
           "linecolor": "white",
           "ticks": "",
           "title": {
            "standoff": 15
           },
           "zerolinecolor": "white",
           "zerolinewidth": 2
          },
          "yaxis": {
           "automargin": true,
           "gridcolor": "white",
           "linecolor": "white",
           "ticks": "",
           "title": {
            "standoff": 15
           },
           "zerolinecolor": "white",
           "zerolinewidth": 2
          }
         }
        },
        "title": {
         "text": "Model + LM(GP2) for remapping score"
        }
       }
      },
      "text/html": "<div>                            <div id=\"c7d3d20b-4b29-489e-8451-2bc3e5242925\" class=\"plotly-graph-div\" style=\"height:525px; width:100%;\"></div>            <script type=\"text/javascript\">                require([\"plotly\"], function(Plotly) {                    window.PLOTLYENV=window.PLOTLYENV || {};                                    if (document.getElementById(\"c7d3d20b-4b29-489e-8451-2bc3e5242925\")) {                    Plotly.newPlot(                        \"c7d3d20b-4b29-489e-8451-2bc3e5242925\",                        [{\"fill\":\"toself\",\"name\":\"mBERT\",\"r\":[0.442,0.485,0.622,0.591,0.491,0.474,0.456],\"theta\":[\"cs\",\"de\",\"fi\",\"lv\",\"ru\",\"tr\",\"zh\"],\"type\":\"scatterpolar\"},{\"fill\":\"toself\",\"name\":\"XLM-RoBERTa\",\"r\":[0.55,0.586,0.716,0.689,0.65,0.626,0.558],\"theta\":[\"cs\",\"de\",\"fi\",\"lv\",\"ru\",\"tr\",\"zh\"],\"type\":\"scatterpolar\"},{\"fill\":\"toself\",\"name\":\"DistilBERT\",\"r\":[0.391,0.454,0.586,0.539,0.444,0.414,0.422],\"theta\":[\"cs\",\"de\",\"fi\",\"lv\",\"ru\",\"tr\",\"zh\"],\"type\":\"scatterpolar\"},{\"fill\":\"toself\",\"name\":\"TinyBERT\",\"r\":[0.299,0.31,0.548,0.434,0.366,0.379,0.437],\"theta\":[\"cs\",\"de\",\"fi\",\"lv\",\"ru\",\"tr\",\"zh\"],\"type\":\"scatterpolar\"}],                        {\"polar\":{\"radialaxis\":{\"range\":[0,1],\"visible\":true}},\"showlegend\":true,\"template\":{\"data\":{\"bar\":[{\"error_x\":{\"color\":\"#2a3f5f\"},\"error_y\":{\"color\":\"#2a3f5f\"},\"marker\":{\"line\":{\"color\":\"#E5ECF6\",\"width\":0.5},\"pattern\":{\"fillmode\":\"overlay\",\"size\":10,\"solidity\":0.2}},\"type\":\"bar\"}],\"barpolar\":[{\"marker\":{\"line\":{\"color\":\"#E5ECF6\",\"width\":0.5},\"pattern\":{\"fillmode\":\"overlay\",\"size\":10,\"solidity\":0.2}},\"type\":\"barpolar\"}],\"carpet\":[{\"aaxis\":{\"endlinecolor\":\"#2a3f5f\",\"gridcolor\":\"white\",\"linecolor\":\"white\",\"minorgridcolor\":\"white\",\"startlinecolor\":\"#2a3f5f\"},\"baxis\":{\"endlinecolor\":\"#2a3f5f\",\"gridcolor\":\"white\",\"linecolor\":\"white\",\"minorgridcolor\":\"white\",\"startlinecolor\":\"#2a3f5f\"},\"type\":\"carpet\"}],\"choropleth\":[{\"colorbar\":{\"outlinewidth\":0,\"ticks\":\"\"},\"type\":\"choropleth\"}],\"contour\":[{\"colorbar\":{\"outlinewidth\":0,\"ticks\":\"\"},\"colorscale\":[[0.0,\"#0d0887\"],[0.1111111111111111,\"#46039f\"],[0.2222222222222222,\"#7201a8\"],[0.3333333333333333,\"#9c179e\"],[0.4444444444444444,\"#bd3786\"],[0.5555555555555556,\"#d8576b\"],[0.6666666666666666,\"#ed7953\"],[0.7777777777777778,\"#fb9f3a\"],[0.8888888888888888,\"#fdca26\"],[1.0,\"#f0f921\"]],\"type\":\"contour\"}],\"contourcarpet\":[{\"colorbar\":{\"outlinewidth\":0,\"ticks\":\"\"},\"type\":\"contourcarpet\"}],\"heatmap\":[{\"colorbar\":{\"outlinewidth\":0,\"ticks\":\"\"},\"colorscale\":[[0.0,\"#0d0887\"],[0.1111111111111111,\"#46039f\"],[0.2222222222222222,\"#7201a8\"],[0.3333333333333333,\"#9c179e\"],[0.4444444444444444,\"#bd3786\"],[0.5555555555555556,\"#d8576b\"],[0.6666666666666666,\"#ed7953\"],[0.7777777777777778,\"#fb9f3a\"],[0.8888888888888888,\"#fdca26\"],[1.0,\"#f0f921\"]],\"type\":\"heatmap\"}],\"heatmapgl\":[{\"colorbar\":{\"outlinewidth\":0,\"ticks\":\"\"},\"colorscale\":[[0.0,\"#0d0887\"],[0.1111111111111111,\"#46039f\"],[0.2222222222222222,\"#7201a8\"],[0.3333333333333333,\"#9c179e\"],[0.4444444444444444,\"#bd3786\"],[0.5555555555555556,\"#d8576b\"],[0.6666666666666666,\"#ed7953\"],[0.7777777777777778,\"#fb9f3a\"],[0.8888888888888888,\"#fdca26\"],[1.0,\"#f0f921\"]],\"type\":\"heatmapgl\"}],\"histogram\":[{\"marker\":{\"pattern\":{\"fillmode\":\"overlay\",\"size\":10,\"solidity\":0.2}},\"type\":\"histogram\"}],\"histogram2d\":[{\"colorbar\":{\"outlinewidth\":0,\"ticks\":\"\"},\"colorscale\":[[0.0,\"#0d0887\"],[0.1111111111111111,\"#46039f\"],[0.2222222222222222,\"#7201a8\"],[0.3333333333333333,\"#9c179e\"],[0.4444444444444444,\"#bd3786\"],[0.5555555555555556,\"#d8576b\"],[0.6666666666666666,\"#ed7953\"],[0.7777777777777778,\"#fb9f3a\"],[0.8888888888888888,\"#fdca26\"],[1.0,\"#f0f921\"]],\"type\":\"histogram2d\"}],\"histogram2dcontour\":[{\"colorbar\":{\"outlinewidth\":0,\"ticks\":\"\"},\"colorscale\":[[0.0,\"#0d0887\"],[0.1111111111111111,\"#46039f\"],[0.2222222222222222,\"#7201a8\"],[0.3333333333333333,\"#9c179e\"],[0.4444444444444444,\"#bd3786\"],[0.5555555555555556,\"#d8576b\"],[0.6666666666666666,\"#ed7953\"],[0.7777777777777778,\"#fb9f3a\"],[0.8888888888888888,\"#fdca26\"],[1.0,\"#f0f921\"]],\"type\":\"histogram2dcontour\"}],\"mesh3d\":[{\"colorbar\":{\"outlinewidth\":0,\"ticks\":\"\"},\"type\":\"mesh3d\"}],\"parcoords\":[{\"line\":{\"colorbar\":{\"outlinewidth\":0,\"ticks\":\"\"}},\"type\":\"parcoords\"}],\"pie\":[{\"automargin\":true,\"type\":\"pie\"}],\"scatter\":[{\"marker\":{\"colorbar\":{\"outlinewidth\":0,\"ticks\":\"\"}},\"type\":\"scatter\"}],\"scatter3d\":[{\"line\":{\"colorbar\":{\"outlinewidth\":0,\"ticks\":\"\"}},\"marker\":{\"colorbar\":{\"outlinewidth\":0,\"ticks\":\"\"}},\"type\":\"scatter3d\"}],\"scattercarpet\":[{\"marker\":{\"colorbar\":{\"outlinewidth\":0,\"ticks\":\"\"}},\"type\":\"scattercarpet\"}],\"scattergeo\":[{\"marker\":{\"colorbar\":{\"outlinewidth\":0,\"ticks\":\"\"}},\"type\":\"scattergeo\"}],\"scattergl\":[{\"marker\":{\"colorbar\":{\"outlinewidth\":0,\"ticks\":\"\"}},\"type\":\"scattergl\"}],\"scattermapbox\":[{\"marker\":{\"colorbar\":{\"outlinewidth\":0,\"ticks\":\"\"}},\"type\":\"scattermapbox\"}],\"scatterpolar\":[{\"marker\":{\"colorbar\":{\"outlinewidth\":0,\"ticks\":\"\"}},\"type\":\"scatterpolar\"}],\"scatterpolargl\":[{\"marker\":{\"colorbar\":{\"outlinewidth\":0,\"ticks\":\"\"}},\"type\":\"scatterpolargl\"}],\"scatterternary\":[{\"marker\":{\"colorbar\":{\"outlinewidth\":0,\"ticks\":\"\"}},\"type\":\"scatterternary\"}],\"surface\":[{\"colorbar\":{\"outlinewidth\":0,\"ticks\":\"\"},\"colorscale\":[[0.0,\"#0d0887\"],[0.1111111111111111,\"#46039f\"],[0.2222222222222222,\"#7201a8\"],[0.3333333333333333,\"#9c179e\"],[0.4444444444444444,\"#bd3786\"],[0.5555555555555556,\"#d8576b\"],[0.6666666666666666,\"#ed7953\"],[0.7777777777777778,\"#fb9f3a\"],[0.8888888888888888,\"#fdca26\"],[1.0,\"#f0f921\"]],\"type\":\"surface\"}],\"table\":[{\"cells\":{\"fill\":{\"color\":\"#EBF0F8\"},\"line\":{\"color\":\"white\"}},\"header\":{\"fill\":{\"color\":\"#C8D4E3\"},\"line\":{\"color\":\"white\"}},\"type\":\"table\"}]},\"layout\":{\"annotationdefaults\":{\"arrowcolor\":\"#2a3f5f\",\"arrowhead\":0,\"arrowwidth\":1},\"autotypenumbers\":\"strict\",\"coloraxis\":{\"colorbar\":{\"outlinewidth\":0,\"ticks\":\"\"}},\"colorscale\":{\"diverging\":[[0,\"#8e0152\"],[0.1,\"#c51b7d\"],[0.2,\"#de77ae\"],[0.3,\"#f1b6da\"],[0.4,\"#fde0ef\"],[0.5,\"#f7f7f7\"],[0.6,\"#e6f5d0\"],[0.7,\"#b8e186\"],[0.8,\"#7fbc41\"],[0.9,\"#4d9221\"],[1,\"#276419\"]],\"sequential\":[[0.0,\"#0d0887\"],[0.1111111111111111,\"#46039f\"],[0.2222222222222222,\"#7201a8\"],[0.3333333333333333,\"#9c179e\"],[0.4444444444444444,\"#bd3786\"],[0.5555555555555556,\"#d8576b\"],[0.6666666666666666,\"#ed7953\"],[0.7777777777777778,\"#fb9f3a\"],[0.8888888888888888,\"#fdca26\"],[1.0,\"#f0f921\"]],\"sequentialminus\":[[0.0,\"#0d0887\"],[0.1111111111111111,\"#46039f\"],[0.2222222222222222,\"#7201a8\"],[0.3333333333333333,\"#9c179e\"],[0.4444444444444444,\"#bd3786\"],[0.5555555555555556,\"#d8576b\"],[0.6666666666666666,\"#ed7953\"],[0.7777777777777778,\"#fb9f3a\"],[0.8888888888888888,\"#fdca26\"],[1.0,\"#f0f921\"]]},\"colorway\":[\"#636efa\",\"#EF553B\",\"#00cc96\",\"#ab63fa\",\"#FFA15A\",\"#19d3f3\",\"#FF6692\",\"#B6E880\",\"#FF97FF\",\"#FECB52\"],\"font\":{\"color\":\"#2a3f5f\"},\"geo\":{\"bgcolor\":\"white\",\"lakecolor\":\"white\",\"landcolor\":\"#E5ECF6\",\"showlakes\":true,\"showland\":true,\"subunitcolor\":\"white\"},\"hoverlabel\":{\"align\":\"left\"},\"hovermode\":\"closest\",\"mapbox\":{\"style\":\"light\"},\"paper_bgcolor\":\"white\",\"plot_bgcolor\":\"#E5ECF6\",\"polar\":{\"angularaxis\":{\"gridcolor\":\"white\",\"linecolor\":\"white\",\"ticks\":\"\"},\"bgcolor\":\"#E5ECF6\",\"radialaxis\":{\"gridcolor\":\"white\",\"linecolor\":\"white\",\"ticks\":\"\"}},\"scene\":{\"xaxis\":{\"backgroundcolor\":\"#E5ECF6\",\"gridcolor\":\"white\",\"gridwidth\":2,\"linecolor\":\"white\",\"showbackground\":true,\"ticks\":\"\",\"zerolinecolor\":\"white\"},\"yaxis\":{\"backgroundcolor\":\"#E5ECF6\",\"gridcolor\":\"white\",\"gridwidth\":2,\"linecolor\":\"white\",\"showbackground\":true,\"ticks\":\"\",\"zerolinecolor\":\"white\"},\"zaxis\":{\"backgroundcolor\":\"#E5ECF6\",\"gridcolor\":\"white\",\"gridwidth\":2,\"linecolor\":\"white\",\"showbackground\":true,\"ticks\":\"\",\"zerolinecolor\":\"white\"}},\"shapedefaults\":{\"line\":{\"color\":\"#2a3f5f\"}},\"ternary\":{\"aaxis\":{\"gridcolor\":\"white\",\"linecolor\":\"white\",\"ticks\":\"\"},\"baxis\":{\"gridcolor\":\"white\",\"linecolor\":\"white\",\"ticks\":\"\"},\"bgcolor\":\"#E5ECF6\",\"caxis\":{\"gridcolor\":\"white\",\"linecolor\":\"white\",\"ticks\":\"\"}},\"title\":{\"x\":0.05},\"xaxis\":{\"automargin\":true,\"gridcolor\":\"white\",\"linecolor\":\"white\",\"ticks\":\"\",\"title\":{\"standoff\":15},\"zerolinecolor\":\"white\",\"zerolinewidth\":2},\"yaxis\":{\"automargin\":true,\"gridcolor\":\"white\",\"linecolor\":\"white\",\"ticks\":\"\",\"title\":{\"standoff\":15},\"zerolinecolor\":\"white\",\"zerolinewidth\":2}}},\"title\":{\"text\":\"Model + LM(GP2) for remapping score\"}},                        {\"responsive\": true}                    ).then(function(){\n                            \nvar gd = document.getElementById('c7d3d20b-4b29-489e-8451-2bc3e5242925');\nvar x = new MutationObserver(function (mutations, observer) {{\n        var display = window.getComputedStyle(gd).display;\n        if (!display || display === 'none') {{\n            console.log([gd, 'removed!']);\n            Plotly.purge(gd);\n            observer.disconnect();\n        }}\n}});\n\n// Listen for the removal of the full notebook cells\nvar notebookContainer = gd.closest('#notebook-container');\nif (notebookContainer) {{\n    x.observe(notebookContainer, {childList: true});\n}}\n\n// Listen for the clearing of the current output cell\nvar outputEl = gd.closest('.output');\nif (outputEl) {{\n    x.observe(outputEl, {childList: true});\n}}\n\n                        })                };                });            </script>        </div>"
     },
     "metadata": {},
     "output_type": "display_data"
    }
   ],
   "source": [
    "import plotly.graph_objects as go\n",
    "lang = ['cs', 'de', 'fi' , 'lv', 'ru', 'tr', 'zh']\n",
    "columm ='LM_Score'\n",
    "modelle = models_df\n",
    "fig = go.Figure()\n",
    "fig.add_trace(go.Scatterpolar(\n",
    "      r= modelle[0][columm].to_numpy(),\n",
    "      theta=lang,\n",
    "      fill='toself',\n",
    "      name='mBERT'\n",
    "))\n",
    "fig.add_trace(go.Scatterpolar(\n",
    "      r=  modelle[2][columm].to_numpy(),\n",
    "      theta=lang,\n",
    "      fill='toself',\n",
    "      name='XLM-RoBERTa'\n",
    "))\n",
    "fig.add_trace(go.Scatterpolar(\n",
    "      r= modelle[1][columm].to_numpy(),\n",
    "      theta=lang,\n",
    "      fill='toself',\n",
    "      name='DistilBERT'\n",
    "))\n",
    "fig.add_trace(go.Scatterpolar(\n",
    "      r= modelle[3][columm].to_numpy(),\n",
    "      theta=lang,\n",
    "      fill='toself',\n",
    "      name='TinyBERT'\n",
    "))\n",
    "\n",
    "fig.update_layout(\n",
    "  polar=dict(\n",
    "    radialaxis=dict(\n",
    "      visible=True,\n",
    "      range=[0, 1]\n",
    "    )),\n",
    "  showlegend=True,\n",
    "    title = \"Model + LM(GP2) for remapping score\"\n",
    ")\n",
    "#pio.write_image(fig,'images/ModelLMScore.png' , format='png')\n",
    "fig.show()"
   ],
   "metadata": {
    "collapsed": false,
    "pycharm": {
     "name": "#%%\n"
    }
   }
  },
  {
   "cell_type": "code",
   "execution_count": 9,
   "outputs": [
    {
     "name": "stdout",
     "output_type": "stream",
     "text": [
      "[0 1 2 3 4 5 6]\n",
      "[0.1, 1.1, 2.1, 3.1, 4.1, 5.1, 6.1]\n",
      "[0.2, 1.2000000000000002, 2.2, 3.2, 4.199999999999999, 5.199999999999999, 6.199999999999999]\n",
      "[0.30000000000000004, 1.3000000000000003, 2.3000000000000003, 3.3000000000000003, 4.299999999999999, 5.299999999999999, 6.299999999999999]\n"
     ]
    },
    {
     "data": {
      "text/plain": "<Figure size 432x288 with 1 Axes>",
      "image/png": "[encoded data removed]"
     },
     "metadata": {
      "needs_background": "light"
     },
     "output_type": "display_data"
    },
    {
     "data": {
      "text/plain": "\"\\nfor mod in modelle:\\n    print(mod)\\n    print(mod['Score'].to_numpy())\\n    print(mod['LM_Score'].to_numpy())\\n\\n    diff = mod['LM_Score'].to_numpy() - mod['Score'].to_numpy()\\n    modelle.append((diff))\\n    print(diff)\\n\\nfor plts in range(len(modelle_diff)):\\n    plt.figure(figsize=(9, 3))\\n    plt.bar(langs, modelle[plt])\\n    plt.suptitle('Differences in  ',str(performance_models[plts]))\\n    plt.legend()\\n    plt.show()\\n\""
     },
     "execution_count": 9,
     "metadata": {},
     "output_type": "execute_result"
    }
   ],
   "source": [
    "import matplotlib.pyplot as plt\n",
    "import numpy as np\n",
    " # ###    Show increasement for LM\n",
    "modelle_diff=[]\n",
    "langs = ['cs', 'de', 'fi' , 'lv', 'ru', 'tr', 'zh']\n",
    "performance_models = ['DistilBERT','XLM-RoBERTa', 'TinyBERT','BERT']\n",
    "\n",
    "modelle = models_df_sort\n",
    "for i in range(4):\n",
    "    scor = modelle[i]['Score'].to_numpy()\n",
    "    scor_lm = modelle[i]['LM_Score'].to_numpy()\n",
    "\n",
    "    diff = scor_lm - scor\n",
    "    modelle_diff.append(diff)\n",
    "\n",
    "\n",
    "bar_width = 0.1\n",
    "x = langs\n",
    "#negative_data = [-1,-4,-3,-2,-6,-2,-8]\n",
    "positive_data = modelle_diff[0]\n",
    "\n",
    "'''\n",
    "fig = plt.figure()\n",
    "ax = plt.subplot(111)\n",
    "ax.bar(x, positive_data, width=1, color='b')\n",
    "'''\n",
    "hatches = [ \"*\",\"x\", \"o\", \"O\" ]\n",
    "\n",
    "x = np.arange(7)\n",
    "\n",
    "x1 = [a + bar_width for a in x]\n",
    "x2 = [a + bar_width for a in x1]\n",
    "x3 = [a + bar_width for a in x2]\n",
    "xs = [x, x1, x2, x3]\n",
    "\n",
    "for i in range(4):\n",
    "    print(xs[i])\n",
    "    plt.bar(xs[i], modelle_diff[i], width= bar_width, label= performance_models[i] )\n",
    "\n",
    "plt.xticks([r + bar_width for r in range(len(langs))], langs)\n",
    "plt.ylabel('Score improvement')\n",
    "plt.xlabel('Languages for MT in combination with english')\n",
    "plt.legend()\n",
    "#plt.savefig('images/XMover_MT-improvement.png')\n",
    "\n",
    "plt.show()\n",
    "\n",
    "\n",
    "'''\n",
    "for mod in modelle:\n",
    "    print(mod)\n",
    "    print(mod['Score'].to_numpy())\n",
    "    print(mod['LM_Score'].to_numpy())\n",
    "\n",
    "    diff = mod['LM_Score'].to_numpy() - mod['Score'].to_numpy()\n",
    "    modelle.append((diff))\n",
    "    print(diff)\n",
    "\n",
    "for plts in range(len(modelle_diff)):\n",
    "    plt.figure(figsize=(9, 3))\n",
    "    plt.bar(langs, modelle[plt])\n",
    "    plt.suptitle('Differences in  ',str(performance_models[plts]))\n",
    "    plt.legend()\n",
    "    plt.show()\n",
    "'''"
   ],
   "metadata": {
    "collapsed": false,
    "pycharm": {
     "name": "#%%\n"
    }
   }
  },
  {
   "cell_type": "code",
   "execution_count": 26,
   "outputs": [
    {
     "name": "stdout",
     "output_type": "stream",
     "text": [
      "[[0.4669914510232293, 0.7821441077002221, 0.9939002438110375, 0.9111381264957114, 0.9976529804911394, 0.8742278865131842], [1.9616010994515627, 0.8447166123857348, 0.921774798405902, 1.2339607993674575, 1.0058174950486758, 0.8740081077665566], [0.7608763514411818, 0.89274310324058, 0.9969791580481014, 0.7763360363305353, 1.002253364756637, 0.8739662411350235]]\n"
     ]
    }
   ],
   "source": [
    "# Aufbereitung für größerer Daten Übersicht\n",
    "# Nehme gemittlelte Daten und Mittel sie über die Sprachen nochmal\n",
    "XLMR_avg = []\n",
    "DiBert_avg = []\n",
    "Tiny_avg = []\n",
    "avg_avg_mod = [XLMR_avg, DiBert_avg, Tiny_avg]\n",
    "\n",
    "modelle_avg = models.copy()\n",
    "\n",
    "for j in range(len(modelle_avg)):\n",
    "    for col in range(1,modelle_avg[j].shape[1]):\n",
    "        temp=0\n",
    "        for row in range(modelle_avg[j].shape[0]):\n",
    "            temp += modelle_avg[j].iloc[row,col]\n",
    "        temp = temp/7\n",
    "        avg_avg_mod[j].append(temp)\n",
    "print(avg_avg_mod)"
   ],
   "metadata": {
    "collapsed": false,
    "pycharm": {
     "name": "#%%\n"
    }
   }
  },
  {
   "cell_type": "code",
   "execution_count": 36,
   "outputs": [
    {
     "data": {
      "text/plain": "<Figure size 432x288 with 1 Axes>",
      "image/png": "[encoded data removed]"
     },
     "metadata": {
      "needs_background": "light"
     },
     "output_type": "display_data"
    }
   ],
   "source": [
    "# Plotte Parallele Daten\n",
    "\n",
    "modelle_diff=[]\n",
    "avg_avg_mod_descr = [\"Score\",\"Time\",\"Memory\",\"LM_Score\",\"LM_Time\",\"LM_Usage\"]\n",
    "performance_models = ['DistilBERT','XLM-RoBERTa', 'TinyBERT']\n",
    "\n",
    "bar_width = 0.1\n",
    "x = avg_avg_mod_descr\n",
    "\n",
    "\n",
    "'''\n",
    "fig = plt.figure()\n",
    "ax = plt.subplot(111)\n",
    "ax.bar(x, positive_data, width=1, color='b')\n",
    "'''\n",
    "hatches = [ \"*\",\"x\", \"o\", \"O\" ]\n",
    "\n",
    "x = np.arange(len(x))\n",
    "\n",
    "x1 = [a + bar_width for a in x]\n",
    "x2 = [a + bar_width for a in x1]\n",
    "x3 = [a + bar_width for a in x2]\n",
    "xs = [x, x1, x2]\n",
    "\n",
    "for i in range(3):\n",
    "    plt.bar(xs[i], avg_avg_mod[i], width= bar_width, label= performance_models[i] )\n",
    "\n",
    "plt.axhline(1, c='r', lw=0.3)\n",
    "\n",
    "plt.xticks([r + bar_width for r in range(len(avg_avg_mod_descr))], avg_avg_mod_descr)\n",
    "plt.ylabel('In relation to mBERT')\n",
    "plt.xlabel('Categories of interest for XMoverScore ')\n",
    "plt.legend()\n",
    "plt.savefig('images/XMover_Alldata.png')\n",
    "\n",
    "plt.show()\n",
    "\n"
   ],
   "metadata": {
    "collapsed": false,
    "pycharm": {
     "name": "#%%\n"
    }
   }
  }
 ],
 "metadata": {
  "kernelspec": {
   "display_name": "Python 3",
   "language": "python",
   "name": "python3"
  },
  "language_info": {
   "codemirror_mode": {
    "name": "ipython",
    "version": 2
   },
   "file_extension": ".py",
   "mimetype": "text/x-python",
   "name": "python",
   "nbconvert_exporter": "python",
   "pygments_lexer": "ipython2",
   "version": "2.7.6"
  }
 },
 "nbformat": 4,
 "nbformat_minor": 0
}